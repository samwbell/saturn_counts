{
 "cells": [
  {
   "cell_type": "code",
   "execution_count": 70,
   "metadata": {},
   "outputs": [],
   "source": [
    "import pandas as pd\n",
    "import numpy as np\n",
    "import matplotlib.pyplot as plt\n",
    "from matplotlib.lines import Line2D\n",
    "from scipy.constants import G\n",
    "import math\n",
    "from scipy.stats.mstats import gmean\n",
    "from scipy.stats import gamma,poisson,linregress,beta\n",
    "from scipy import optimize\n",
    "import time\n",
    "import random\n",
    "import pickle as pkl\n",
    "from multiprocessing import Pool\n",
    "%matplotlib inline"
   ]
  },
  {
   "cell_type": "code",
   "execution_count": 71,
   "metadata": {},
   "outputs": [],
   "source": [
    "def log(x):\n",
    "    return math.log(x,10.0)"
   ]
  },
  {
   "cell_type": "code",
   "execution_count": 72,
   "metadata": {},
   "outputs": [],
   "source": [
    "keys = ['Mimas','Dione-cp','Dione-sp','Enceladus-cp','Tethys','Rhea','Odysseus','Iapetus-bright','Iapetus-dark','Turgis','Falsaron']\n",
    "cp_keys = ['Mimas', 'Enceladus-cp', 'Tethys', 'Dione-cp', 'Rhea','Iapetus-bright']\n",
    "body_dict = {'Mimas':'Mimas','Enceladus-cp':'Enceladus-cp','Dione-cp':'Dione-cp','Dione-sp':'Dione-cp',\\\n",
    "             'Tethys':'Tethys','Rhea':'Rhea','Odysseus':'Tethys',\\\n",
    "             'Iapetus-bright':'Iapetus-bright','Iapetus-dark':'Iapetus-bright','Turgis':'Iapetus-bright',\\\n",
    "             'Falsaron':'Iapetus-bright'}"
   ]
  },
  {
   "cell_type": "code",
   "execution_count": 73,
   "metadata": {},
   "outputs": [],
   "source": [
    "cp_dict_full = {}\n",
    "for key in keys:\n",
    "    cp_dict_full[key] = pd.read_excel('Sat_satel-summary.xlsx', sheet_name=key)"
   ]
  },
  {
   "cell_type": "code",
   "execution_count": 74,
   "metadata": {},
   "outputs": [],
   "source": [
    "cp_dict={}\n",
    "for key in cp_keys:\n",
    "    cp_dict[key] = cp_dict_full[key][cp_dict_full[key]['D (km)'] > 10.0]"
   ]
  },
  {
   "cell_type": "code",
   "execution_count": 75,
   "metadata": {},
   "outputs": [],
   "source": [
    "color_dict={\n",
    "    'Mimas':'blue',\n",
    "    'Enceladus-cp':'yellow',\n",
    "    'Tethys':'red',\n",
    "    'Dione-cp':'gray',\n",
    "    'Rhea':'green',\n",
    "    'Titan':'black',\n",
    "    'Iapetus-bright':'orange'\n",
    "}"
   ]
  },
  {
   "cell_type": "code",
   "execution_count": 76,
   "metadata": {},
   "outputs": [],
   "source": [
    "m_saturn = 5.683*10**26\n",
    "e_saturn = 0.0565\n",
    "\n",
    "m_sun = 1.989*10**30\n",
    "\n",
    "m_pluto = 1.309*10**22\n",
    "e_pluto = 0.2488\n",
    "ro_pluto = 5.90638*10**12\n",
    "vcp_pluto = math.sqrt(G*m_sun/ro_pluto)\n",
    "m_charon = 1.586*10**21\n",
    "r_charon = 606000.0\n",
    "ro_charon = 19591000.0\n",
    "e_charon = 0.0002\n",
    "\n",
    "m_jupiter = 1.8982*10**27\n",
    "e_jupiter = 0.0489\n",
    "ro_jupiter = 778.57*10**9\n",
    "vcp_jupiter = math.sqrt(G*m_sun/ro_jupiter)\n",
    "m_europa = 4.799844*10**22\n",
    "r_europa = 1560800\n",
    "ro_europa = 670900000\n",
    "e_europa = 0.009\n",
    "\n",
    "m_mimas = 3.749*10**19\n",
    "m_enceladus = 1.080*10**20\n",
    "m_tethys = 6.174*10**20\n",
    "m_dione = 1.095*10**21\n",
    "m_rhea = 2.307*10**21\n",
    "m_titan = 1.345*10**23\n",
    "m_iapetus = 1.806*10**21\n",
    "\n",
    "r_mimas = 198000.0\n",
    "r_enceladus = 252100.0\n",
    "r_tethys = 531100.0\n",
    "r_dione = 561400.0\n",
    "r_rhea = 763800.0\n",
    "r_titan = 2575500.0\n",
    "r_iapetus = 734500.0\n",
    "\n",
    "ro_mimas = 185539000.0\n",
    "ro_enceladus = 237948000.0\n",
    "ro_tethys = 294619000.0\n",
    "ro_dione = 377396000.0\n",
    "ro_rhea = 527108000.0\n",
    "ro_titan = 1221870000.0\n",
    "ro_iapetus = 3560820000.0\n",
    "\n",
    "e_mimas = 0.0196\n",
    "e_enceladus = 0.0047\n",
    "e_tethys = 0.0001\n",
    "e_dione = 0.019\n",
    "e_rhea = 0.00126\n",
    "e_titan = 0.0288\n",
    "e_iapetus = 0.0286\n",
    "\n",
    "ro_saturn = 1433530000000.0\n",
    "vcp_saturn = math.sqrt(G*m_sun/ro_saturn)"
   ]
  },
  {
   "cell_type": "code",
   "execution_count": 77,
   "metadata": {},
   "outputs": [],
   "source": [
    "def vcs(ro_moon, m_planet=m_saturn):\n",
    "    return math.sqrt(G*m_planet/ro_moon)\n",
    "\n",
    "def ve(m_moon, r_moon):\n",
    "    return math.sqrt(2*G*m_moon/r_moon)"
   ]
  },
  {
   "cell_type": "code",
   "execution_count": 78,
   "metadata": {},
   "outputs": [],
   "source": [
    "e_dict={\n",
    "    'Mimas':e_mimas,\n",
    "    'Enceladus-cp':e_enceladus,\n",
    "    'Tethys':e_tethys,\n",
    "    'Dione-cp':e_dione,\n",
    "    'Rhea':e_rhea,\n",
    "    'Titan':e_titan,\n",
    "    'Iapetus-bright':e_iapetus\n",
    "}\n",
    "\n",
    "r_dict={\n",
    "    'Mimas':r_mimas,\n",
    "    'Enceladus-cp':r_enceladus,\n",
    "    'Tethys':r_tethys,\n",
    "    'Dione-cp':r_dione,\n",
    "    'Rhea':r_rhea,\n",
    "    'Titan':r_titan,\n",
    "    'Iapetus-bright':r_iapetus\n",
    "}\n",
    "\n",
    "m_dict={\n",
    "    'Mimas':m_mimas,\n",
    "    'Enceladus-cp':m_enceladus,\n",
    "    'Tethys':m_tethys,\n",
    "    'Dione-cp':m_dione,\n",
    "    'Rhea':m_rhea,\n",
    "    'Titan':m_titan,\n",
    "    'Iapetus-bright':m_iapetus\n",
    "}\n",
    "\n",
    "ro_dict={\n",
    "    'Mimas':ro_mimas,\n",
    "    'Enceladus-cp':ro_enceladus,\n",
    "    'Tethys':ro_tethys,\n",
    "    'Dione-cp':ro_dione,\n",
    "    'Rhea':ro_rhea,\n",
    "    'Titan':ro_titan,\n",
    "    'Iapetus-bright':ro_iapetus\n",
    "}"
   ]
  },
  {
   "cell_type": "code",
   "execution_count": 79,
   "metadata": {},
   "outputs": [],
   "source": [
    "def vi(e_projectile, e_moon, m_moon, r_moon, ro_moon):\n",
    "    vcs_moon = vcs(ro_moon)\n",
    "    ve_moon = ve(m_moon, r_moon)\n",
    "    U_infinity = math.sqrt(3.0/5.0)*e_moon*vcs_moon\n",
    "    U_s = math.sqrt(3.0/5.0)*e_projectile*vcs_moon\n",
    "    return math.sqrt(ve_moon**2 + U_infinity**2 + U_s**2)\n",
    "\n",
    "def vi_h(e_projectile, e_moon, m_moon, r_moon, ro_moon,m_planet=m_saturn,e_planet=e_saturn,vcp=vcp_saturn):\n",
    "    ve_moon = ve(m_moon, r_moon)\n",
    "    vcs_moon = vcs(ro_moon, m_planet)\n",
    "    U_infinity = math.sqrt(3.0/5.0)*e_planet*vcp\n",
    "    U_p = math.sqrt(3.0/5.0)*e_projectile*vcp\n",
    "    U_s = math.sqrt(3.0/5.0)*e_moon*vcs_moon\n",
    "    return math.sqrt(ve_moon**2 + 3.0*G*m_planet/ro_moon +  U_infinity**2 + U_p**2 + U_s**2)"
   ]
  },
  {
   "cell_type": "code",
   "execution_count": 81,
   "metadata": {},
   "outputs": [],
   "source": [
    "def charon_ratio(key,e_charon_impactor=0.15,alpha=0.65):\n",
    "    g_charon = G*m_charon/r_charon**2\n",
    "    g_moon = G*m_dict[key]/r_dict[key]**2\n",
    "    vi_moon = vi_h(0.6,e_dict[key],m_dict[key],r_dict[key],ro_dict[key])\n",
    "    vi_charon = vi_h(e_charon_impactor,e_charon,m_charon,r_charon,ro_charon,m_planet=m_pluto,e_planet=e_pluto,vcp=vcp_pluto)\n",
    "    return 1/((g_charon/g_moon)**(-1.0*alpha/3.0) * (vi_charon/vi_moon)**(2.0*alpha/3.0))*13"
   ]
  },
  {
   "cell_type": "code",
   "execution_count": 161,
   "metadata": {},
   "outputs": [
    {
     "name": "stdout",
     "output_type": "stream",
     "text": [
      "65.67347021227327\n",
      "36.27555814274024\n",
      "42.884927141563814\n",
      "26.481082622191277\n",
      "39.00103474833296\n",
      "24.68823485345058\n"
     ]
    }
   ],
   "source": [
    "print(charon_ratio('Mimas',e_charon_impactor=0.15,alpha=0.65))\n",
    "print(charon_ratio('Mimas',e_charon_impactor=0.5,alpha=0.48))\n",
    "print(charon_ratio('Dione-cp',e_charon_impactor=0.15,alpha=0.65))\n",
    "print(charon_ratio('Dione-cp',e_charon_impactor=0.5,alpha=0.48))\n",
    "print(charon_ratio('Rhea',e_charon_impactor=0.15,alpha=0.65))\n",
    "print(charon_ratio('Rhea',e_charon_impactor=0.5,alpha=0.48))"
   ]
  },
  {
   "cell_type": "code",
   "execution_count": 84,
   "metadata": {},
   "outputs": [],
   "source": [
    "def age_fraction(t):\n",
    "    return 0.198406*math.log(t)-3.41872\n",
    "\n",
    "def get_age_from_fraction(fraction):\n",
    "    return 4.5*10**9-math.e**((fraction + 3.41872)/0.198406)"
   ]
  },
  {
   "cell_type": "code",
   "execution_count": 85,
   "metadata": {},
   "outputs": [],
   "source": [
    "pj_mimas = 1.7*10**-6\n",
    "pj_enceladus = 2.2*10**-6\n",
    "pj_tethys = 7.9*10**-6\n",
    "pj_dione = 7.1*10**-6\n",
    "pj_rhea = 9.6*10**-6\n",
    "pj_titan = 5.4*10**-5\n",
    "pj_iapetus = 1.4*10**-6\n",
    "\n",
    "pt_mimas = pj_mimas/pj_titan/r_mimas**2*r_titan**2\n",
    "pt_enceladus = pj_enceladus/pj_titan/r_enceladus**2*r_titan**2\n",
    "pt_tethys = pj_tethys/pj_titan/r_tethys**2*r_titan**2\n",
    "pt_dione = pj_dione/pj_titan/r_dione**2*r_titan**2\n",
    "pt_rhea = pj_rhea/pj_titan/r_rhea**2*r_titan**2\n",
    "pt_titan = 1.0\n",
    "pt_iapetus = pj_iapetus/pj_titan/r_iapetus**2*r_titan**2\n",
    "\n",
    "pt_dict = {'Mimas':pt_mimas, 'Enceladus-cp':pt_enceladus, 'Tethys':pt_tethys, 'Dione-cp':pt_dione, 'Rhea':pt_rhea, 'Iapetus-bright':pt_iapetus, 'Titan':1.0}"
   ]
  },
  {
   "cell_type": "code",
   "execution_count": 86,
   "metadata": {},
   "outputs": [
    {
     "data": {
      "image/png": "[encoded data removed]",
      "text/plain": [
       "<Figure size 432x432 with 1 Axes>"
      ]
     },
     "metadata": {
      "needs_background": "light"
     },
     "output_type": "display_data"
    }
   ],
   "source": [
    "plt.figure(figsize=(6,6))\n",
    "x = np.array([ro_mimas, ro_enceladus, ro_tethys, ro_dione, ro_rhea, ro_titan, ro_iapetus])/1e9\n",
    "y = [pt_mimas, pt_enceladus, pt_tethys, pt_dione, pt_rhea, pt_titan, pt_iapetus]\n",
    "names = ['Mimas','Enceladus', 'Tethys', 'Dione', 'Rhea', 'Titan', 'Iapetus']\n",
    "colors = ['blue', 'yellow', 'red', 'gray', 'green', 'black', 'orange']\n",
    "plt.scatter(x, y, c=colors)\n",
    "for i, txt in enumerate(names):\n",
    "    plt.annotate(txt, (x[i], y[i]),xytext=(5, 2), textcoords='offset points', size=14)\n",
    "plt.xlim([0,4.35])\n",
    "plt.ylim([0,5.75])\n",
    "plt.xlabel('Orbital Semimajor Axis (billions of km)',size=16)\n",
    "plt.ylabel('Impactor Probability Relative to Titan ',size=16)\n",
    "plt.title('Heliocentric Impactor Production\\nFactors (Zahnle et al., 2003)',size=18)\n",
    "plt.xticks(size=14)\n",
    "plt.yticks(size=14)\n",
    "fig = plt.gcf()\n",
    "fig.savefig('HeliocenticImpactorProbabilityFactors.pdf', bbox_inches='tight')"
   ]
  },
  {
   "cell_type": "code",
   "execution_count": 87,
   "metadata": {},
   "outputs": [],
   "source": [
    "def ig_error(p,n):\n",
    "    return gamma.ppf(1-p,n+1),gamma.ppf(0.5,n+1),gamma.ppf(p,n+1)\n",
    "\n",
    "def ig_50(n):\n",
    "    return gamma.ppf(0.5,n+1)\n",
    "\n",
    "def ig_lower(n):\n",
    "    return gamma.ppf(0.5,n+1)-gamma.ppf(1-0.841345,n+1)\n",
    "\n",
    "def ig_upper(n):\n",
    "    return gamma.ppf(0.841345,n+1)-gamma.ppf(0.5,n+1)\n",
    "\n",
    "def ig_ndist(n,increment_exponent):\n",
    "    return np.array([gamma.ppf(p,n+1) for p in list(np.arange(0.1**increment_exponent,1.0,0.1**increment_exponent))])\n",
    "\n",
    "\n",
    "def poisson_error_bars(p,n):\n",
    "    nrange = max(n*10.0,10.0)\n",
    "    inc = nrange/100000.0\n",
    "    X = np.arange(inc,nrange,inc)\n",
    "    Y = [poisson.pmf(n,m) for m in X]\n",
    "    Yc = np.cumsum(Y)/len(X)*nrange\n",
    "    cdfn = pd.DataFrame({'n':X,'cp':Yc})\n",
    "    return [cdfn[cdfn['cp']<cp].iloc[-1].tolist()[1] for cp in [1.0-p,0.5,p]]\n",
    "\n",
    "def poisson_error_bars(p,n):\n",
    "    nrange = max(n*10.0,10.0)\n",
    "    inc = nrange/100000.0\n",
    "    X = np.arange(0.5*inc,nrange,inc)\n",
    "    Y = [poisson.pmf(n,m) for m in X]\n",
    "    Yc = np.cumsum(Y)/len(X)*nrange\n",
    "    cdfn = pd.DataFrame({'n':X,'cp':Yc})\n",
    "    return [cdfn[cdfn['cp']<cp].iloc[-1].tolist()[1] for cp in [1.0-p,0.5,p]]"
   ]
  },
  {
   "cell_type": "code",
   "execution_count": 159,
   "metadata": {},
   "outputs": [
    {
     "data": {
      "text/plain": [
       "(0.7081847118202692, 1.6783469900166612, 3.299528644717541)"
      ]
     },
     "execution_count": 159,
     "metadata": {},
     "output_type": "execute_result"
    }
   ],
   "source": [
    "ig_error(0.841345,1)"
   ]
  },
  {
   "cell_type": "code",
   "execution_count": 88,
   "metadata": {},
   "outputs": [],
   "source": [
    "n1_ndist = ig_ndist(1,4)\n",
    "n1_percentiles = np.percentile(n1_ndist,np.arange(0.00005,100.0,0.00005))"
   ]
  },
  {
   "cell_type": "code",
   "execution_count": 89,
   "metadata": {},
   "outputs": [
    {
     "data": {
      "image/png": "[encoded data removed]",
      "text/plain": [
       "<Figure size 720x720 with 1 Axes>"
      ]
     },
     "metadata": {
      "needs_background": "light"
     },
     "output_type": "display_data"
    }
   ],
   "source": [
    "fig = plt.figure(figsize=(10,10))\n",
    "ax = fig.add_subplot(111)\n",
    "Y,bin_edges=np.histogram(np.log10(n1_percentiles),1000, density=True)\n",
    "bin_edges = 10**np.array(bin_edges)\n",
    "Y = np.array(Y)/max(Y)\n",
    "X =[np.mean([bin_edges[i], bin_edges[i+1]]) for i in list(range(len(bin_edges)-1))]\n",
    "plt.plot(X,Y,color_dict['Mimas'], linewidth=3)\n",
    "low1,med1,high1 = tuple(np.percentile(n1_percentiles,[100-84.1345,50,84.1345]))\n",
    "ax.fill_between(X,0,Y, where=((low1<X)&(X<high1)), facecolor=color_dict['Mimas'], alpha=0.07)\n",
    "ax.plot([med1,med1],[0,Y[next(x[0] for x in enumerate(X) if x[1] > med1)]],color=color_dict['Mimas'])\n",
    "ax.plot([low1,low1],[0,Y[next(x[0] for x in enumerate(X) if x[1] > low1)]],':',color=color_dict['Mimas'])\n",
    "ax.plot([high1,high1],[0,Y[next(x[0] for x in enumerate(X) if x[1] > high1)]],':',color=color_dict['Mimas'])\n",
    "plt.xticks(size=16)\n",
    "plt.yticks(size=16)\n",
    "plt.xlabel('Cratering rate parameter λ (linear scale)',size=22)\n",
    "plt.ylabel('Relative Probability Density',size=22)\n",
    "plt.xlim([0.1,10])\n",
    "plt.ylim([0,1.05])\n",
    "pfig = plt.gcf()\n",
    "pfig.savefig('n1_PDF_linear.pdf',bbox_inches='tight')"
   ]
  },
  {
   "cell_type": "code",
   "execution_count": 90,
   "metadata": {},
   "outputs": [
    {
     "data": {
      "image/png": "[encoded data removed]",
      "text/plain": [
       "<Figure size 720x720 with 1 Axes>"
      ]
     },
     "metadata": {
      "needs_background": "light"
     },
     "output_type": "display_data"
    }
   ],
   "source": [
    "fig = plt.figure(figsize=(10,10))\n",
    "ax = fig.add_subplot(111)\n",
    "Y,bin_edges=np.histogram(np.log10(n1_percentiles),1000, density=True)\n",
    "bin_edges = 10**np.array(bin_edges)\n",
    "Y = np.array(Y)/max(Y)\n",
    "X =[np.mean([bin_edges[i], bin_edges[i+1]]) for i in list(range(len(bin_edges)-1))]\n",
    "plt.plot(X,Y,color_dict['Mimas'], linewidth=3)\n",
    "low1,med1,high1 = tuple(np.percentile(n1_percentiles,[100-84.1345,50,84.1345]))\n",
    "ax.fill_between(X,0,Y, where=((low1<X)&(X<high1)), facecolor=color_dict['Mimas'], alpha=0.07)\n",
    "ax.semilogx([med1,med1],[0,Y[next(x[0] for x in enumerate(X) if x[1] > med1)]],color=color_dict['Mimas'])\n",
    "ax.semilogx([low1,low1],[0,Y[next(x[0] for x in enumerate(X) if x[1] > low1)]],':',color=color_dict['Mimas'])\n",
    "ax.semilogx([high1,high1],[0,Y[next(x[0] for x in enumerate(X) if x[1] > high1)]],':',color=color_dict['Mimas'])\n",
    "plt.xticks(size=16)\n",
    "plt.yticks(size=16)\n",
    "plt.xlabel('Cratering rate parameter λ (log scale)',size=22)\n",
    "plt.ylabel('Relative Probability Density',size=22)\n",
    "plt.xlim([0.1,10])\n",
    "plt.ylim([0,1.05])\n",
    "pfig = plt.gcf()\n",
    "pfig.savefig('n1_PDF_log.pdf',bbox_inches='tight')"
   ]
  },
  {
   "cell_type": "code",
   "execution_count": 91,
   "metadata": {},
   "outputs": [],
   "source": [
    "def d_scale_factor(e_projectile, e_moon, m_moon, r_moon, ro_moon, alpha):\n",
    "    vi_moon = vi(e_projectile, e_moon, m_moon, r_moon, ro_moon)\n",
    "    vi_titan = vi(e_projectile, e_titan, m_titan, r_titan, ro_titan)\n",
    "    g_titan = G*m_titan/r_titan**2\n",
    "    g_moon = G*m_moon/r_moon**2\n",
    "    return (g_titan/g_moon)**(-1.0*alpha/3.0) * (vi_titan/vi_moon)**(2.0*alpha/3.0)\n",
    "\n",
    "def d_scale_factor_enceladus(e_projectile, e_moon, m_moon, r_moon, ro_moon, alpha):\n",
    "    vi_moon = vi(e_projectile, e_moon, m_moon, r_moon, ro_moon)\n",
    "    vi_enceladus = vi(e_projectile, e_enceladus, m_enceladus, r_enceladus, ro_enceladus)\n",
    "    g_enceladus = G*m_enceladus/r_enceladus**2\n",
    "    g_moon = G*m_moon/r_moon**2\n",
    "    return (g_enceladus/g_moon)**(-1.0*alpha/3.0) * (vi_enceladus/vi_moon)**(2.0*alpha/3.0)\n",
    "\n",
    "def d_scale_factor_h(e_projectile, e_moon, m_moon, r_moon, ro_moon, alpha):\n",
    "    vi_moon = vi_h(e_projectile, e_moon, m_moon, r_moon, ro_moon)\n",
    "    vi_titan = vi_h(e_projectile, e_titan, m_titan, r_titan, ro_titan)\n",
    "    g_titan = G*m_titan/r_titan**2\n",
    "    g_moon = G*m_moon/r_moon**2\n",
    "    return (g_titan/g_moon)**(-1.0*alpha/3.0) * (vi_titan/vi_moon)**(2.0*alpha/3.0)\n",
    "\n",
    "def d_scale_factor_key(e_projectile, key, alpha):\n",
    "    vi_moon = vi(e_projectile, e_dict[key], m_dict[key], r_dict[key], ro_dict[key])\n",
    "    vi_titan = vi(e_projectile, e_titan, m_titan, r_titan, ro_titan)\n",
    "    g_titan = G*m_titan/r_titan**2\n",
    "    g_moon = G*m_dict[key]/r_dict[key]**2\n",
    "    return (g_titan/g_moon)**(-1.0*alpha/3.0) * (vi_titan/vi_moon)**(2.0*alpha/3.0)\n",
    "\n",
    "def d_scale_factor_h_key(e_projectile, key, alpha):\n",
    "    vi_moon = vi_h(e_projectile, e_dict[key], m_dict[key], r_dict[key], ro_dict[key])\n",
    "    vi_titan = vi_h(e_projectile, e_titan, m_titan, r_titan, ro_titan)\n",
    "    g_titan = G*m_titan/r_titan**2\n",
    "    g_moon = G*m_dict[key]/r_dict[key]**2\n",
    "    return (g_titan/g_moon)**(-1.0*alpha/3.0) * (vi_titan/vi_moon)**(2.0*alpha/3.0)"
   ]
  },
  {
   "cell_type": "code",
   "execution_count": 187,
   "metadata": {},
   "outputs": [
    {
     "name": "stdout",
     "output_type": "stream",
     "text": [
      "[0.81589677 0.72999794 0.68057491 0.54933436]\n",
      "[0.75917055 0.6530023  0.59386286 0.44431975]\n"
     ]
    }
   ],
   "source": [
    "alpha=0.48\n",
    "print(d_scale_factor_h_key(0.6,'Mimas',alpha)/np.array([d_scale_factor_h_key(0.6,'Tethys',alpha),\\\n",
    "                                                d_scale_factor_h_key(0.6,'Dione-cp',alpha),\\\n",
    "                                                d_scale_factor_h_key(0.6,'Rhea',alpha),\\\n",
    "                                                d_scale_factor_h_key(0.6,'Iapetus-bright',alpha)]))\n",
    "alpha=0.65\n",
    "print(d_scale_factor_h_key(0.6,'Mimas',alpha)/np.array([d_scale_factor_h_key(0.6,'Tethys',alpha),\\\n",
    "                                                d_scale_factor_h_key(0.6,'Dione-cp',alpha),\\\n",
    "                                                d_scale_factor_h_key(0.6,'Rhea',alpha),\\\n",
    "                                                d_scale_factor_h_key(0.6,'Iapetus-bright',alpha)]))"
   ]
  },
  {
   "cell_type": "code",
   "execution_count": 168,
   "metadata": {},
   "outputs": [
    {
     "data": {
      "text/plain": [
       "1.3352273064135833"
      ]
     },
     "execution_count": 168,
     "metadata": {},
     "output_type": "execute_result"
    }
   ],
   "source": [
    "d_scale_factor_key(0.05,'Iapetus-bright',0.65)/d_scale_factor_key(0.05,'Mimas',0.65)"
   ]
  },
  {
   "cell_type": "code",
   "execution_count": 95,
   "metadata": {
    "scrolled": false
   },
   "outputs": [
    {
     "data": {
      "image/png": "[encoded data removed]",
      "text/plain": [
       "<Figure size 950.4x856.8 with 7 Axes>"
      ]
     },
     "metadata": {
      "needs_background": "light"
     },
     "output_type": "display_data"
    }
   ],
   "source": [
    "def V_moon(key,X,alpha):\n",
    "    return [vi(ep, e_dict[key], m_dict[key], r_dict[key], ro_dict[key]) for ep in X]\n",
    "def V_h_moon(key,X,alpha):\n",
    "    return [vi_h(ep, e_dict[key], m_dict[key], r_dict[key], ro_dict[key]) for ep in X]\n",
    "def Y_moon(key,X,alpha):\n",
    "    return [d_scale_factor(ep, e_dict[key], m_dict[key], r_dict[key], ro_dict[key], alpha) for ep in X]\n",
    "def Y_h_moon(key,X,alpha):\n",
    "    return [d_scale_factor_h(ep, e_dict[key], m_dict[key], r_dict[key], ro_dict[key], alpha) for ep in X]\n",
    "\n",
    "X = np.arange(0.0,1.0,0.01)\n",
    "\n",
    "fig = plt.figure(figsize=(17.6/2*1.5,(14*1.5+2.8)/2))\n",
    "\n",
    "ax = fig.add_subplot(331)\n",
    "for key in cp_keys[:5] + ['Titan'] + [cp_keys[5]]:\n",
    "    plt.semilogy(X,V_moon(key,X,0.65), color=color_dict[key], label=key.partition('-')[0])\n",
    "plt.semilogy([0.05,0.05],[100,100000],':',color='gray')\n",
    "plt.ylim([200,30000])\n",
    "ax.get_xaxis().set_ticklabels([])\n",
    "plt.ylabel('Impact Velocity (m/s)',size=16)\n",
    "plt.title('Planetocentric',size=22)\n",
    "ax.spines['right'].set_linewidth(2)\n",
    "ax.spines['bottom'].set_linewidth(2)\n",
    "ax.spines['left'].set_linewidth(2)\n",
    "ax.spines['top'].set_linewidth(2)\n",
    "\n",
    "ax = fig.add_subplot(332)\n",
    "for key in cp_keys[:5] + ['Titan'] + [cp_keys[5]]:\n",
    "    plt.semilogy(X,V_h_moon(key,X,0.65), color=color_dict[key], label=key.partition('-')[0])\n",
    "plt.semilogy([0.6,0.6],[100,100000],':',color='gray')\n",
    "plt.ylim([200,30000])\n",
    "ax.get_xaxis().set_ticklabels([])\n",
    "plt.title('Heliocentric',size=22)\n",
    "ax.get_yaxis().set_visible(False)\n",
    "ax.get_yaxis().set_ticklabels([])\n",
    "ax.spines['right'].set_linewidth(2)\n",
    "ax.spines['bottom'].set_linewidth(2)\n",
    "ax.spines['left'].set_linewidth(2)\n",
    "ax.spines['top'].set_linewidth(2)\n",
    "\n",
    "ax = fig.add_subplot(334)\n",
    "for key in cp_keys[:5] + ['Titan'] + [cp_keys[5]]:\n",
    "    plt.plot(X,Y_moon(key,X,0.48), color=color_dict[key], label=key.partition('-')[0])\n",
    "plt.plot([0.05,0.05],[0,2],':',color='gray')\n",
    "plt.ylim([0.3,1.5])\n",
    "plt.text(0.2,1.35,'α=0.48',fontsize=22)\n",
    "ax.get_xaxis().set_ticklabels([])\n",
    "plt.ylabel('Diameter Scale Factor',size=16)\n",
    "ax.spines['right'].set_linewidth(2)\n",
    "ax.spines['bottom'].set_linewidth(2)\n",
    "ax.spines['left'].set_linewidth(2)\n",
    "ax.spines['top'].set_linewidth(2)\n",
    "\n",
    "ax = fig.add_subplot(335)\n",
    "for key in cp_keys[:5] + ['Titan'] + [cp_keys[5]]:\n",
    "    plt.plot(X,Y_h_moon(key,X,0.48), color=color_dict[key], label=key.partition('-')[0])\n",
    "plt.plot([0.6,0.6],[0,2],':',color='gray')\n",
    "plt.ylim([0.3,1.5])\n",
    "plt.text(0.2,1.35,'α=0.48',fontsize=22)\n",
    "ax.get_yaxis().set_visible(False)\n",
    "ax.get_yaxis().set_ticklabels([])\n",
    "ax.get_xaxis().set_ticklabels([])\n",
    "ax.spines['right'].set_linewidth(2)\n",
    "ax.spines['bottom'].set_linewidth(2)\n",
    "ax.spines['left'].set_linewidth(2)\n",
    "ax.spines['top'].set_linewidth(2)\n",
    "\n",
    "ax = fig.add_subplot(337)\n",
    "for key in cp_keys[:5] + ['Titan'] + [cp_keys[5]]:\n",
    "    plt.plot(X,Y_moon(key,X,0.65), color=color_dict[key], label=key.partition('-')[0])\n",
    "plt.plot([0.05,0.05],[0,2],':',color='gray')\n",
    "plt.ylim([0.3,1.5])\n",
    "plt.text(0.2,1.35,'α=0.65',fontsize=22)\n",
    "plt.xlabel('Projectile Eccentricity',size=16)\n",
    "plt.ylabel('Diameter Scale Factor',size=16)\n",
    "ax.spines['right'].set_linewidth(2)\n",
    "ax.spines['bottom'].set_linewidth(2)\n",
    "ax.spines['left'].set_linewidth(2)\n",
    "ax.spines['top'].set_linewidth(2)\n",
    "\n",
    "ax = fig.add_subplot(338)\n",
    "for key in cp_keys[:5] + ['Titan'] + [cp_keys[5]]:\n",
    "    plt.plot(X,Y_h_moon(key,X,0.65), color=color_dict[key], label=key.partition('-')[0])\n",
    "plt.plot([0.6,0.6],[0,2],':',color='gray')\n",
    "plt.xlim([-0.025,1.025])\n",
    "plt.ylim([0.3,1.5])\n",
    "plt.text(0.2,1.35,'α=0.65',fontsize=22)\n",
    "plt.xlabel('Projectile Eccentricity',size=16)\n",
    "ax.get_yaxis().set_visible(False)\n",
    "ax.get_yaxis().set_ticklabels([])\n",
    "ax.spines['right'].set_linewidth(2)\n",
    "ax.spines['bottom'].set_linewidth(2)\n",
    "ax.spines['left'].set_linewidth(2)\n",
    "ax.spines['top'].set_linewidth(2)\n",
    "\n",
    "ax = fig.add_subplot(333)\n",
    "custom_lines = [Line2D([0], [0], color=color_dict[key], lw=4) for key in cp_keys]\n",
    "custom_lines.insert(5,Line2D([0], [0], color='Black', lw=4))\n",
    "ax.legend(custom_lines, cp_keys[:5] + ['Titan'] + [cp_keys[5]],labelspacing=0.7, fontsize=16, loc=2)\n",
    "ax.get_yaxis().set_visible(False)\n",
    "ax.get_yaxis().set_ticklabels([])\n",
    "ax.get_xaxis().set_visible(False)\n",
    "ax.get_xaxis().set_ticklabels([])\n",
    "ax.spines['right'].set_visible(False)\n",
    "ax.spines['bottom'].set_visible(False)\n",
    "ax.spines['left'].set_visible(False)\n",
    "ax.spines['top'].set_visible(False)\n",
    "\n",
    "fig.subplots_adjust(wspace=0.02)\n",
    "fig.subplots_adjust(hspace=0.02)\n",
    "\n",
    "plt.tight_layout()\n",
    "\n",
    "fig.savefig('ScaleFactorPanelFigure.pdf')"
   ]
  },
  {
   "cell_type": "code",
   "execution_count": 96,
   "metadata": {},
   "outputs": [],
   "source": [
    "bins = [2.0*(math.sqrt(2.0)**n) for n in list(range(5,17))]\n",
    "titan_ds = pd.read_csv('titan_data.csv').astype('float')\n",
    "titan_gmeans_d = np.zeros(len(bins)-1)\n",
    "n_d = np.zeros(len(bins)-1)\n",
    "for i in list(range(len(bins)-1)):\n",
    "    bin_craters = titan_ds[(titan_ds['D'] >= bins[i]) & (titan_ds['D'] < bins[i+1])]\n",
    "    n = bin_craters.shape[0]\n",
    "    n_d[i] = n\n",
    "    if n!=0:\n",
    "        titan_gmeans_d[i] = gmean(bin_craters['D'].tolist())\n",
    "full_bins = [2.0*(math.sqrt(2.0)**n) for n in list(range(1,17))]\n",
    "full_bin_gmeans = [gmean([full_bins[i],full_bins[i+1]]) for i in list(range(len(full_bins)-1))]\n",
    "prob8 = 58.3 + (gmean([bins[8],bins[9]]) - gmean([bins[7],bins[8]]))*(76.0-58.3)/(gmean([bins[10],bins[11]]) - gmean([bins[7],bins[8]]))\n",
    "prob9 = 58.3 + (gmean([bins[10],bins[9]]) - gmean([bins[7],bins[8]]))*(76.0-58.3)/(gmean([bins[10],bins[11]]) - gmean([bins[7],bins[8]]))\n",
    "titan_counts = pd.DataFrame({'count':[2,11,5,8,2,4,2,2,0,0,1],'prob':[33.0,33.0,33.0,41.4,46.4,50.0,53.7,58.3,\\\n",
    "            prob8,prob9,76.0]}, index=titan_gmeans_d)\n",
    "titan_counts = titan_counts[titan_counts['count']!=0]\n",
    "titan_counts.sort_index(ascending=False, inplace=True)\n",
    "area_titan = 4*math.pi*r_titan**2/10.0**6\n",
    "titan_density = ((titan_counts['count']/titan_counts['prob']*100.0).cumsum()/100*titan_counts['prob'])\\\n",
    "            .apply(ig_50)/100*titan_counts['prob']/area_titan\n",
    "titan_lower = ((titan_counts['count']/titan_counts['prob']*100.0).cumsum()/100*titan_counts['prob'])\\\n",
    "            .apply(ig_lower)/100*titan_counts['prob']/area_titan\n",
    "titan_upper = ((titan_counts['count']/titan_counts['prob']*100.0).cumsum()/100*titan_counts['prob'])\\\n",
    "            .apply(ig_upper)/100*titan_counts['prob']/area_titan\n",
    "titan_ndist = ((titan_counts['count']/titan_counts['prob']*100.0).cumsum()/100*titan_counts['prob'])\\\n",
    "            .apply(lambda var: ig_ndist(var,3.5))/100*titan_counts['prob']/area_titan\n",
    "titan_data = pd.DataFrame({'density':titan_density.values, 'lower':titan_lower.values, \\\n",
    "            'upper':titan_upper.values, 'ndist':titan_ndist.values, 'D':list(titan_density.index.values)})"
   ]
  },
  {
   "cell_type": "code",
   "execution_count": 97,
   "metadata": {
    "scrolled": false
   },
   "outputs": [],
   "source": [
    "def get_binned_dict(alpha, model='planetocentric'):\n",
    "    return_dict = {}\n",
    "    if model == 'unscaled':\n",
    "        key_list = keys\n",
    "        full_bins = [2.0*(math.sqrt(2.0)**n) for n in list(np.arange(1,17,0.5))]\n",
    "    else:\n",
    "        key_list = cp_keys\n",
    "        full_bins = [2.0*(math.sqrt(2.0)**n) for n in list(range(1,17))]\n",
    "    full_bin_gmeans = [gmean([full_bins[i],full_bins[i+1]]) for i in list(range(len(full_bins)-1))]\n",
    "    for key in key_list:\n",
    "        area = cp_dict_full[key]['Area (km^2)'][0]\n",
    "        full_area = r_dict[body_dict[key]]**2 * math.pi * 4 /1000000.0\n",
    "        if model=='planetocentric':\n",
    "            sf = d_scale_factor(0.05, e_dict[key], m_dict[key], r_dict[key], ro_dict[key], alpha)\n",
    "        if model in ['heliocentric', 'heliocentric-unadjusted']:\n",
    "            sf = d_scale_factor_h(0.6, e_dict[key], m_dict[key], r_dict[key], ro_dict[key], alpha)\n",
    "        if model == 'unscaled':\n",
    "            sf = 1.0\n",
    "        else:\n",
    "            NameError('Bad model name')\n",
    "        if model=='heliocentric': \n",
    "            pt = pt_dict[key]\n",
    "        else:\n",
    "            pt = 1.0\n",
    "        if model != 'unscaled':\n",
    "            cp_dict_calc = cp_dict.copy()\n",
    "        else:\n",
    "            cp_dict_calc = cp_dict_full.copy()\n",
    "        cp_dict_calc[key] = cp_dict_calc[key].assign(D_sf=cp_dict_calc[key]['D (km)']*sf).sort_values(by='D_sf', \\\n",
    "                                                                                                ascending=False)\n",
    "        min_d = cp_dict_calc[key]['D_sf'].min()\n",
    "        if model == 'unscaled':\n",
    "            min_d = cp_dict_calc[key]['D (km)'].min()\n",
    "        n_d = list(np.zeros(len(full_bin_gmeans)))\n",
    "        gmeans_d = list(np.zeros(len(full_bin_gmeans)))\n",
    "        binned_d = list(np.zeros(len(full_bin_gmeans)))\n",
    "        binned_l = list(np.zeros(len(full_bin_gmeans)))\n",
    "        binned_u = list(np.zeros(len(full_bin_gmeans)))\n",
    "        binned_ndist = list(np.zeros(len(full_bin_gmeans)))\n",
    "        for i in list(range(len(full_bins)-1)):\n",
    "            if full_bins[i] >= min_d:\n",
    "                bin_craters = cp_dict_calc[key][(cp_dict_calc[key]['D_sf'] >= full_bins[i]) & \\\n",
    "                                                (cp_dict_calc[key]['D_sf'] < full_bins[i+1])]\n",
    "                n = bin_craters.shape[0]\n",
    "                n_d[i] = n\n",
    "                if n!=0:\n",
    "                    gmeans_d[i] = gmean(bin_craters['D_sf'].tolist())\n",
    "            else:\n",
    "                n_d[i] = 1000000000000\n",
    "        n_d.reverse()\n",
    "        n_d = list(np.cumsum(n_d))\n",
    "        n_d.reverse()\n",
    "        i_e = 3.5\n",
    "        for i in list(range(len(n_d))):\n",
    "            if n_d[i] > 500000000000.0 or n_d[i]==0:\n",
    "                binned_d[i] = None\n",
    "            else:\n",
    "                if key in ['Mimas','Tethys','Dione-cp','Rhea']:\n",
    "                    af = area/full_area\n",
    "                elif key == 'Iapetus-bright':\n",
    "                    af = 4*area/full_area\n",
    "                elif key == 'Enceladus-cp':\n",
    "                    af = 0\n",
    "                else:\n",
    "                    NameError('Wrong key name')\n",
    "                binned_d[i] = ig_50(n_d[i] + af)/area/pt\n",
    "                binned_l[i] = ig_lower(n_d[i] + af)/area/pt\n",
    "                binned_u[i] = ig_upper(n_d[i] + af)/area/pt\n",
    "                binned_ndist[i] = ig_ndist(n_d[i] + af, i_e)/area/pt\n",
    "        big_D_dict = {'Mimas':[139.0], 'Tethys':[445.0], 'Dione-cp':[350],'Rhea':[480],'Iapetus-bright':[580.0,504.0,445.0,424.0]}\n",
    "        if key in big_D_dict.keys():\n",
    "            for i in list(range(len(big_D_dict[key]))):\n",
    "                gmeans_d.append(big_D_dict[key][i] * sf)\n",
    "                binned_d.append(ig_50(float(i+1))/full_area/pt)\n",
    "                binned_l.append(ig_lower(float(i+1))/full_area/pt)\n",
    "                binned_u.append(ig_upper(float(i+1))/full_area/pt)\n",
    "                binned_ndist.append(ig_ndist(1.0,i_e)/full_area/pt)\n",
    "        bin_df = pd.DataFrame({'D_sf':gmeans_d, 'density_sf':binned_d, 'lower_sf':binned_l, 'upper_sf':binned_u, 'ndist_sf':binned_ndist})\n",
    "        return_dict[key] = bin_df[~(bin_df['density_sf'].isnull()|bin_df['D_sf'].isnull()|(bin_df['D_sf'] == 0.0))]\n",
    "    return return_dict"
   ]
  },
  {
   "cell_type": "code",
   "execution_count": 98,
   "metadata": {},
   "outputs": [],
   "source": [
    "binned_dict_p48 = get_binned_dict(0.48,model='planetocentric')\n",
    "binned_dict_h48 = get_binned_dict(0.48,model='heliocentric')\n",
    "binned_dict_p65 = get_binned_dict(0.65,model='planetocentric')\n",
    "binned_dict_h65 = get_binned_dict(0.65,model='heliocentric')"
   ]
  },
  {
   "cell_type": "code",
   "execution_count": 99,
   "metadata": {},
   "outputs": [
    {
     "data": {
      "text/plain": [
       "13.203317109452499"
      ]
     },
     "execution_count": 99,
     "metadata": {},
     "output_type": "execute_result"
    }
   ],
   "source": [
    "binned_dict_h48[key]['D_sf'].min()"
   ]
  },
  {
   "cell_type": "code",
   "execution_count": 100,
   "metadata": {},
   "outputs": [
    {
     "data": {
      "text/plain": [
       "11.313708498984765"
      ]
     },
     "execution_count": 100,
     "metadata": {},
     "output_type": "execute_result"
    }
   ],
   "source": [
    "full_bins[4]"
   ]
  },
  {
   "cell_type": "code",
   "execution_count": 101,
   "metadata": {},
   "outputs": [
    {
     "data": {
      "text/plain": [
       "['Mimas', 'Enceladus-cp', 'Tethys', 'Dione-cp', 'Rhea', 'Iapetus-bright']"
      ]
     },
     "execution_count": 101,
     "metadata": {},
     "output_type": "execute_result"
    }
   ],
   "source": [
    "cp_keys"
   ]
  },
  {
   "cell_type": "code",
   "execution_count": 191,
   "metadata": {},
   "outputs": [
    {
     "name": "stdout",
     "output_type": "stream",
     "text": [
      "Mean diameter cutoff: 12.52625\n"
     ]
    },
    {
     "data": {
      "text/html": [
       "<div>\n",
       "<style scoped>\n",
       "    .dataframe tbody tr th:only-of-type {\n",
       "        vertical-align: middle;\n",
       "    }\n",
       "\n",
       "    .dataframe tbody tr th {\n",
       "        vertical-align: top;\n",
       "    }\n",
       "\n",
       "    .dataframe thead th {\n",
       "        text-align: right;\n",
       "    }\n",
       "</style>\n",
       "<table border=\"1\" class=\"dataframe\">\n",
       "  <thead>\n",
       "    <tr style=\"text-align: right;\">\n",
       "      <th></th>\n",
       "      <th>min_d_p65</th>\n",
       "      <th>min_d_p48</th>\n",
       "      <th>min_d_h65</th>\n",
       "      <th>min_d_h48</th>\n",
       "    </tr>\n",
       "  </thead>\n",
       "  <tbody>\n",
       "    <tr>\n",
       "      <td>Mimas</td>\n",
       "      <td>11.65</td>\n",
       "      <td>11.56</td>\n",
       "      <td>11.11</td>\n",
       "      <td>12.03</td>\n",
       "    </tr>\n",
       "    <tr>\n",
       "      <td>Enceladus-cp</td>\n",
       "      <td>13.81</td>\n",
       "      <td>10.15</td>\n",
       "      <td>13.17</td>\n",
       "      <td>10.56</td>\n",
       "    </tr>\n",
       "    <tr>\n",
       "      <td>Tethys</td>\n",
       "      <td>13.51</td>\n",
       "      <td>14.12</td>\n",
       "      <td>11.93</td>\n",
       "      <td>13.88</td>\n",
       "    </tr>\n",
       "    <tr>\n",
       "      <td>Dione-cp</td>\n",
       "      <td>12.82</td>\n",
       "      <td>13.58</td>\n",
       "      <td>10.26</td>\n",
       "      <td>12.42</td>\n",
       "    </tr>\n",
       "    <tr>\n",
       "      <td>Rhea</td>\n",
       "      <td>12.92</td>\n",
       "      <td>13.66</td>\n",
       "      <td>13.20</td>\n",
       "      <td>11.58</td>\n",
       "    </tr>\n",
       "    <tr>\n",
       "      <td>Iapetus-bright</td>\n",
       "      <td>12.33</td>\n",
       "      <td>13.20</td>\n",
       "      <td>13.96</td>\n",
       "      <td>13.22</td>\n",
       "    </tr>\n",
       "  </tbody>\n",
       "</table>\n",
       "</div>"
      ],
      "text/plain": [
       "                min_d_p65  min_d_p48  min_d_h65  min_d_h48\n",
       "Mimas               11.65      11.56      11.11      12.03\n",
       "Enceladus-cp        13.81      10.15      13.17      10.56\n",
       "Tethys              13.51      14.12      11.93      13.88\n",
       "Dione-cp            12.82      13.58      10.26      12.42\n",
       "Rhea                12.92      13.66      13.20      11.58\n",
       "Iapetus-bright      12.33      13.20      13.96      13.22"
      ]
     },
     "execution_count": 191,
     "metadata": {},
     "output_type": "execute_result"
    }
   ],
   "source": [
    "min_d_h48 = [round(pd.Series(full_bins)[pd.Series(full_bins) < \\\n",
    "                binned_dict_h48[key]['D_sf'].min()].max()/d_scale_factor_h_key(0.6,key,0.48),2) for key in cp_keys]\n",
    "min_d_h65 = [round(pd.Series(full_bins)[pd.Series(full_bins) < \\\n",
    "                binned_dict_h65[key]['D_sf'].min()].max()/d_scale_factor_h_key(0.6,key,0.65),2) for key in cp_keys]\n",
    "min_d_p48 = [round(pd.Series(full_bins)[pd.Series(full_bins) < \\\n",
    "                binned_dict_p48[key]['D_sf'].min()].max()/d_scale_factor_key(0.05,key,0.48),2) for key in cp_keys]\n",
    "min_d_p65 = [round(pd.Series(full_bins)[pd.Series(full_bins) < \\\n",
    "                binned_dict_p65[key]['D_sf'].min()].max()/d_scale_factor_key(0.05,key,0.65),2) for key in cp_keys]\n",
    "min_d_table = pd.DataFrame({'min_d_p65':min_d_p65,'min_d_p48':min_d_p48,\\\n",
    "              'min_d_h65':min_d_h65,'min_d_h48':min_d_h48},index=cp_keys)\n",
    "min_d_table.to_csv('min_d_table.csv')\n",
    "print('Mean diameter cutoff: ' + str(min_d_table.mean().mean()))\n",
    "min_d_table"
   ]
  },
  {
   "cell_type": "code",
   "execution_count": 104,
   "metadata": {},
   "outputs": [],
   "source": [
    "binned_dict_unscaled = get_binned_dict(0.65,model='unscaled')"
   ]
  },
  {
   "cell_type": "code",
   "execution_count": 105,
   "metadata": {},
   "outputs": [
    {
     "data": {
      "text/plain": [
       "(0.06382289031731456, 0.14608493457995347, 0.23187862193465392)"
      ]
     },
     "execution_count": 105,
     "metadata": {},
     "output_type": "execute_result"
    }
   ],
   "source": [
    "G*m_mimas/r_mimas**2,G*m_tethys/r_tethys**2,G*m_dione/r_dione**2"
   ]
  },
  {
   "cell_type": "code",
   "execution_count": 107,
   "metadata": {},
   "outputs": [],
   "source": [
    "def find_line_i(input_tuple):\n",
    "    x,y_ndist = input_tuple\n",
    "    y = list(y_ndist.apply(random.choice).apply(log))\n",
    "    m,b,r,p,stderr = linregress(x,y)\n",
    "    return (m,b)\n",
    "\n",
    "def get_lines(binned_dict,key,n,low=0, high=99999999999999.0):\n",
    "    x = list(binned_dict[key][(binned_dict[key]['D_sf'] > low) & \\\n",
    "                              (binned_dict[key]['D_sf'] < high)]['D_sf'].apply(log))\n",
    "    y_ndist = binned_dict[key][(binned_dict[key]['D_sf'] > low) & (binned_dict[key]['D_sf'] < high)]['ndist_sf']\n",
    "    input_list = [(x,y_ndist) for i in range(n)]\n",
    "    with Pool(5) as pool:\n",
    "        lrs = pool.map(find_line_i, input_list)\n",
    "        pool.close()\n",
    "    return pd.DataFrame(lrs,columns=['m','b'])\n",
    "\n",
    "def piecewise_linear(x, x0, y0, k2):\n",
    "    k1=-1.83\n",
    "    #k2=-2.5\n",
    "    return np.piecewise(x, [x < x0], [lambda x:k1*x + y0-k1*x0, lambda x:k2*x + y0-k2*x0])\n",
    "\n",
    "def piecewise_linear_fixed(x, x0, y0):\n",
    "    k1=-1.83\n",
    "    k2=-2.5\n",
    "    return np.piecewise(x, [x < x0], [lambda x:k1*x + y0-k1*x0, lambda x:k2*x + y0-k2*x0])\n",
    "\n",
    "def find_piecewise_i(input_tuple):\n",
    "    x,y_ndist = input_tuple\n",
    "    y = list(y_ndist.apply(random.choice).apply(log))\n",
    "    p , e = optimize.curve_fit(piecewise_linear, x, y)\n",
    "    return tuple(p)\n",
    "\n",
    "def get_piecewise_lines(binned_dict,key,n):\n",
    "    x = list(binned_dict[key][binned_dict[key]['D_sf']<100]['D_sf'].apply(log))\n",
    "    y_ndist = binned_dict[key][binned_dict[key]['D_sf']<100]['ndist_sf']\n",
    "    input_list = [(x,y_ndist) for i in range(n)]\n",
    "    with Pool(5) as pool:\n",
    "        lrs = pool.map(find_piecewise_i, input_list)\n",
    "        pool.close()\n",
    "    return pd.DataFrame(lrs,columns=['x_ip','y_ip','k2'])"
   ]
  },
  {
   "cell_type": "code",
   "execution_count": 111,
   "metadata": {},
   "outputs": [],
   "source": [
    "iapetus_no_basins = get_lines(binned_dict_unscaled,'Iapetus-bright',5000,high=200.0).median()"
   ]
  },
  {
   "cell_type": "code",
   "execution_count": 112,
   "metadata": {},
   "outputs": [
    {
     "data": {
      "text/plain": [
       "m   -1.765769\n",
       "b   -1.429633\n",
       "dtype: float64"
      ]
     },
     "execution_count": 112,
     "metadata": {},
     "output_type": "execute_result"
    }
   ],
   "source": [
    "iapetus_no_basins"
   ]
  },
  {
   "cell_type": "code",
   "execution_count": 113,
   "metadata": {},
   "outputs": [],
   "source": [
    "iapetus_no_basins_slopes = np.array(get_lines(binned_dict_unscaled,'Iapetus-bright',5000,high=200.0)['m'].tolist())"
   ]
  },
  {
   "cell_type": "code",
   "execution_count": 114,
   "metadata": {},
   "outputs": [
    {
     "data": {
      "text/plain": [
       "array([-1.64700382, -1.75751562, -1.88584168])"
      ]
     },
     "execution_count": 114,
     "metadata": {},
     "output_type": "execute_result"
    }
   ],
   "source": [
    "np.percentile(iapetus_no_basins_slopes,[84.1345,50,100.0-84.1345])"
   ]
  },
  {
   "cell_type": "code",
   "execution_count": 115,
   "metadata": {},
   "outputs": [
    {
     "data": {
      "text/plain": [
       "m   -2.288988\n",
       "b   -0.884175\n",
       "dtype: float64"
      ]
     },
     "execution_count": 115,
     "metadata": {},
     "output_type": "execute_result"
    }
   ],
   "source": [
    "get_lines(binned_dict_unscaled,'Dione-cp',5000,low=12.0).median()"
   ]
  },
  {
   "cell_type": "code",
   "execution_count": 116,
   "metadata": {},
   "outputs": [
    {
     "data": {
      "text/plain": [
       "m   -2.507328\n",
       "b   -0.240015\n",
       "dtype: float64"
      ]
     },
     "execution_count": 116,
     "metadata": {},
     "output_type": "execute_result"
    }
   ],
   "source": [
    "get_lines(binned_dict_unscaled,'Mimas',5000,low=12.0).median()"
   ]
  },
  {
   "cell_type": "code",
   "execution_count": 119,
   "metadata": {},
   "outputs": [
    {
     "data": {
      "text/plain": [
       "m   -2.046067\n",
       "b   -1.116619\n",
       "dtype: float64"
      ]
     },
     "execution_count": 119,
     "metadata": {},
     "output_type": "execute_result"
    }
   ],
   "source": [
    "tethys_fit = get_lines(binned_dict_unscaled,'Tethys',5000,low=12.0).median()\n",
    "tethys_fit"
   ]
  },
  {
   "cell_type": "code",
   "execution_count": 120,
   "metadata": {},
   "outputs": [
    {
     "name": "stderr",
     "output_type": "stream",
     "text": [
      "/opt/miniconda3/lib/python3.7/site-packages/scipy/optimize/minpack.py:795: OptimizeWarning: Covariance of the parameters could not be estimated\n",
      "  category=OptimizeWarning)\n"
     ]
    }
   ],
   "source": [
    "tethys_piecewise = get_piecewise_lines(binned_dict_unscaled,'Tethys',50000)"
   ]
  },
  {
   "cell_type": "code",
   "execution_count": 121,
   "metadata": {},
   "outputs": [],
   "source": [
    "dione_piecewise = get_piecewise_lines(binned_dict_unscaled,'Dione-cp',50000)"
   ]
  },
  {
   "cell_type": "code",
   "execution_count": 122,
   "metadata": {},
   "outputs": [],
   "source": [
    "mimas_piecewise = get_piecewise_lines(binned_dict_unscaled,'Mimas',50000)"
   ]
  },
  {
   "cell_type": "code",
   "execution_count": 123,
   "metadata": {},
   "outputs": [
    {
     "data": {
      "text/plain": [
       "x_ip    1.045977\n",
       "y_ip   -3.080123\n",
       "k2     -2.500195\n",
       "dtype: float64"
      ]
     },
     "execution_count": 123,
     "metadata": {},
     "output_type": "execute_result"
    }
   ],
   "source": [
    "tethys_piecewise.median()"
   ]
  },
  {
   "cell_type": "code",
   "execution_count": 124,
   "metadata": {},
   "outputs": [
    {
     "data": {
      "text/plain": [
       "x_ip    1.069050\n",
       "y_ip   -3.251878\n",
       "k2     -2.466393\n",
       "dtype: float64"
      ]
     },
     "execution_count": 124,
     "metadata": {},
     "output_type": "execute_result"
    }
   ],
   "source": [
    "dione_piecewise.median()"
   ]
  },
  {
   "cell_type": "code",
   "execution_count": 139,
   "metadata": {},
   "outputs": [
    {
     "data": {
      "text/plain": [
       "1.0"
      ]
     },
     "execution_count": 139,
     "metadata": {},
     "output_type": "execute_result"
    }
   ],
   "source": [
    "log(10)"
   ]
  },
  {
   "cell_type": "code",
   "execution_count": 154,
   "metadata": {},
   "outputs": [
    {
     "data": {
      "text/plain": [
       "0.9496376112958511"
      ]
     },
     "execution_count": 154,
     "metadata": {},
     "output_type": "execute_result"
    }
   ],
   "source": [
    "1/math.cos(math.pi/6)/(10**0.25-10**-0.25)"
   ]
  },
  {
   "cell_type": "code",
   "execution_count": 152,
   "metadata": {},
   "outputs": [
    {
     "data": {
      "text/plain": [
       "1.1547005383792515"
      ]
     },
     "execution_count": 152,
     "metadata": {},
     "output_type": "execute_result"
    }
   ],
   "source": [
    "1/math.cos(math.pi/6)"
   ]
  },
  {
   "cell_type": "code",
   "execution_count": 143,
   "metadata": {},
   "outputs": [
    {
     "data": {
      "text/plain": [
       "0.040507051459741726"
      ]
     },
     "execution_count": 143,
     "metadata": {},
     "output_type": "execute_result"
    }
   ],
   "source": [
    "1/(10**(log(1/math.cos(math.pi/6))+1.33))"
   ]
  },
  {
   "cell_type": "code",
   "execution_count": 138,
   "metadata": {},
   "outputs": [
    {
     "data": {
      "text/plain": [
       "1.1547005383792517"
      ]
     },
     "execution_count": 138,
     "metadata": {},
     "output_type": "execute_result"
    }
   ],
   "source": [
    "2/math.sqrt(3)"
   ]
  },
  {
   "cell_type": "code",
   "execution_count": 125,
   "metadata": {},
   "outputs": [
    {
     "data": {
      "text/plain": [
       "x_ip    1.197659\n",
       "y_ip   -3.176553\n",
       "k2     -2.731419\n",
       "dtype: float64"
      ]
     },
     "execution_count": 125,
     "metadata": {},
     "output_type": "execute_result"
    }
   ],
   "source": [
    "mimas_piecewise.median()"
   ]
  },
  {
   "cell_type": "code",
   "execution_count": 126,
   "metadata": {},
   "outputs": [
    {
     "name": "stdout",
     "output_type": "stream",
     "text": [
      "-2.50019505139936\n"
     ]
    },
    {
     "data": {
      "text/plain": [
       "<Figure size 432x288 with 0 Axes>"
      ]
     },
     "metadata": {},
     "output_type": "display_data"
    },
    {
     "data": {
      "image/png": "[encoded data removed]",
      "text/plain": [
       "<Figure size 720x720 with 1 Axes>"
      ]
     },
     "metadata": {
      "needs_background": "light"
     },
     "output_type": "display_data"
    }
   ],
   "source": [
    "binned_dict = binned_dict_unscaled\n",
    "fig = plt.figure()\n",
    "key='Tethys'\n",
    "binned_dict[key].plot(y='density_sf',x='D_sf', \\\n",
    "                      yerr=np.array([binned_dict[key][['lower_sf','upper_sf']].values.transpose()]), \n",
    "                      logx=True, logy=True, kind='scatter', \n",
    "                      color=color_dict[body_dict[key]], legend=True, s=50, figsize=(10,10))\n",
    "plt.xticks(size=20)\n",
    "plt.yticks(size=20)\n",
    "plt.ylabel('Cumulative Crater Density',size=18)\n",
    "plt.xlabel('Unscaled Crater Diameter (km)',size=18)\n",
    "custom_lines = [Line2D([0], [0], color=color_dict[body_dict[key]], lw=8)]\n",
    "plt.legend(custom_lines, [key],labelspacing=0.7, fontsize=22, loc=1)\n",
    "xd = np.linspace(0.5, 3, 100)\n",
    "xip,yip,k2 = tuple(tethys_piecewise.median().tolist())\n",
    "print(k2)\n",
    "plt.plot(10**xd, 10**piecewise_linear(xd,xip,yip,k2),'gray')\n",
    "plt.plot(10**xd, 10**(-1*k2*xip + yip + k2*xd),'gray',linestyle='--')\n",
    "plt.plot(10**xd, 10**(1.83*xip + yip - 1.83*xd),'gray',linestyle='--')\n",
    "plt.xlim([3,900])\n",
    "plt.ylim([0.8*10.0**-7,10.0**-2])\n",
    "fig=plt.gcf()\n",
    "fig.savefig('TethysFitFree.pdf', bbox_inches='tight')"
   ]
  },
  {
   "cell_type": "code",
   "execution_count": 127,
   "metadata": {},
   "outputs": [
    {
     "name": "stdout",
     "output_type": "stream",
     "text": [
      "-2.731419052183556\n"
     ]
    },
    {
     "data": {
      "text/plain": [
       "<Figure size 432x288 with 0 Axes>"
      ]
     },
     "metadata": {},
     "output_type": "display_data"
    },
    {
     "data": {
      "image/png": "[encoded data removed]",
      "text/plain": [
       "<Figure size 720x720 with 1 Axes>"
      ]
     },
     "metadata": {
      "needs_background": "light"
     },
     "output_type": "display_data"
    }
   ],
   "source": [
    "binned_dict = binned_dict_unscaled\n",
    "fig = plt.figure()\n",
    "key='Mimas'\n",
    "binned_dict[key].plot(y='density_sf',x='D_sf', \\\n",
    "                      yerr=np.array([binned_dict[key][['lower_sf','upper_sf']].values.transpose()]), \n",
    "                      logx=True, logy=True, kind='scatter', \n",
    "                      color=color_dict[body_dict[key]], legend=True, s=50, figsize=(10,10))\n",
    "plt.xticks(size=20)\n",
    "plt.yticks(size=20)\n",
    "plt.ylabel('Cumulative Crater Density',size=18)\n",
    "plt.xlabel('Unscaled Crater Diameter (km)',size=18)\n",
    "custom_lines = [Line2D([0], [0], color=color_dict[body_dict[key]], lw=8)]\n",
    "plt.legend(custom_lines, [key],labelspacing=0.7, fontsize=22, loc=1)\n",
    "xd = np.linspace(0.5, 3, 100)\n",
    "xip,yip,k2 = tuple(mimas_piecewise.median().tolist())\n",
    "print(k2)\n",
    "plt.plot(10**xd, 10**piecewise_linear(xd,xip,yip,k2),'gray')\n",
    "plt.plot(10**xd, 10**(-1*k2*xip + yip + k2*xd),'gray',linestyle='--')\n",
    "plt.plot(10**xd, 10**(1.83*xip + yip - 1.83*xd),'gray',linestyle='--')\n",
    "plt.xlim([3,900])\n",
    "plt.ylim([0.8*10.0**-7,10.0**-2])\n",
    "fig=plt.gcf()\n",
    "fig.savefig('MimasFitFree.pdf', bbox_inches='tight')"
   ]
  },
  {
   "cell_type": "code",
   "execution_count": 128,
   "metadata": {},
   "outputs": [
    {
     "name": "stdout",
     "output_type": "stream",
     "text": [
      "-2.466393340860968\n"
     ]
    },
    {
     "data": {
      "text/plain": [
       "<Figure size 432x288 with 0 Axes>"
      ]
     },
     "metadata": {},
     "output_type": "display_data"
    },
    {
     "data": {
      "image/png": "[encoded data removed]",
      "text/plain": [
       "<Figure size 720x720 with 1 Axes>"
      ]
     },
     "metadata": {
      "needs_background": "light"
     },
     "output_type": "display_data"
    }
   ],
   "source": [
    "binned_dict = binned_dict_unscaled\n",
    "fig = plt.figure()\n",
    "key='Dione-cp'\n",
    "binned_dict[key].plot(y='density_sf',x='D_sf', \\\n",
    "                      yerr=np.array([binned_dict[key][['lower_sf','upper_sf']].values.transpose()]), \n",
    "                      logx=True, logy=True, kind='scatter', \n",
    "                      color=color_dict[body_dict[key]], legend=True, s=50, figsize=(10,10))\n",
    "plt.xticks(size=20)\n",
    "plt.yticks(size=20)\n",
    "plt.ylabel('Cumulative Crater Density',size=18)\n",
    "plt.xlabel('Unscaled Crater Diameter (km)',size=18)\n",
    "custom_lines = [Line2D([0], [0], color=color_dict[body_dict[key]], lw=8)]\n",
    "plt.legend(custom_lines, [key],labelspacing=0.7, fontsize=22, loc=1)\n",
    "xd = np.linspace(0.5, 3, 100)\n",
    "xip,yip,k2 = tuple(dione_piecewise.median().tolist())\n",
    "print(k2)\n",
    "plt.plot(10**xd, 10**piecewise_linear(xd,xip,yip,k2),'gray')\n",
    "plt.plot(10**xd, 10**(-1*k2*xip + yip + k2*xd),'gray',linestyle='--')\n",
    "plt.plot(10**xd, 10**(1.83*xip + yip - 1.83*xd),'gray',linestyle='--')\n",
    "plt.xlim([3,900])\n",
    "plt.ylim([0.8*10.0**-7,10.0**-2])\n",
    "fig=plt.gcf()\n",
    "fig.savefig('DioneFitFree.pdf', bbox_inches='tight')"
   ]
  },
  {
   "cell_type": "code",
   "execution_count": 129,
   "metadata": {},
   "outputs": [
    {
     "data": {
      "text/plain": [
       "(15.763733557585228, 11.11671613468375, 11.723295157562031)"
      ]
     },
     "execution_count": 129,
     "metadata": {},
     "output_type": "execute_result"
    }
   ],
   "source": [
    "10**mimas_piecewise.median()['x_ip'],10**tethys_piecewise.median()['x_ip'],10**dione_piecewise.median()['x_ip']"
   ]
  },
  {
   "cell_type": "code",
   "execution_count": 130,
   "metadata": {},
   "outputs": [],
   "source": [
    "dione_inflection = get_piecewise_lines(binned_dict,'Dione-cp',5000)"
   ]
  },
  {
   "cell_type": "code",
   "execution_count": 131,
   "metadata": {},
   "outputs": [],
   "source": [
    "mimas_inflection = get_piecewise_lines(binned_dict,'Mimas',5000)"
   ]
  },
  {
   "cell_type": "code",
   "execution_count": 132,
   "metadata": {},
   "outputs": [],
   "source": [
    "tethys_inflection = get_piecewise_lines(binned_dict,'Tethys',5000)"
   ]
  },
  {
   "cell_type": "code",
   "execution_count": 133,
   "metadata": {},
   "outputs": [
    {
     "name": "stderr",
     "output_type": "stream",
     "text": [
      "/opt/miniconda3/lib/python3.7/site-packages/scipy/optimize/minpack.py:795: OptimizeWarning: Covariance of the parameters could not be estimated\n",
      "  category=OptimizeWarning)\n",
      "/opt/miniconda3/lib/python3.7/site-packages/scipy/optimize/minpack.py:795: OptimizeWarning: Covariance of the parameters could not be estimated\n",
      "  category=OptimizeWarning)\n",
      "/opt/miniconda3/lib/python3.7/site-packages/scipy/optimize/minpack.py:795: OptimizeWarning: Covariance of the parameters could not be estimated\n",
      "  category=OptimizeWarning)\n",
      "/opt/miniconda3/lib/python3.7/site-packages/scipy/optimize/minpack.py:795: OptimizeWarning: Covariance of the parameters could not be estimated\n",
      "  category=OptimizeWarning)\n",
      "/opt/miniconda3/lib/python3.7/site-packages/scipy/optimize/minpack.py:795: OptimizeWarning: Covariance of the parameters could not be estimated\n",
      "  category=OptimizeWarning)\n"
     ]
    },
    {
     "ename": "RuntimeError",
     "evalue": "Optimal parameters not found: Number of calls to function has reached maxfev = 800.",
     "output_type": "error",
     "traceback": [
      "\u001b[0;31m---------------------------------------------------------------------------\u001b[0m",
      "\u001b[0;31mRemoteTraceback\u001b[0m                           Traceback (most recent call last)",
      "\u001b[0;31mRemoteTraceback\u001b[0m: \n\"\"\"\nTraceback (most recent call last):\n  File \"/opt/miniconda3/lib/python3.7/multiprocessing/pool.py\", line 121, in worker\n    result = (True, func(*args, **kwds))\n  File \"/opt/miniconda3/lib/python3.7/multiprocessing/pool.py\", line 44, in mapstar\n    return list(map(*args))\n  File \"<ipython-input-106-5fe29ff2b50e>\", line 12, in find_piecewise_i\n    p , e = optimize.curve_fit(piecewise_linear, x, y)\n  File \"/opt/miniconda3/lib/python3.7/site-packages/scipy/optimize/minpack.py\", line 756, in curve_fit\n    raise RuntimeError(\"Optimal parameters not found: \" + errmsg)\nRuntimeError: Optimal parameters not found: Number of calls to function has reached maxfev = 800.\n\"\"\"",
      "\nThe above exception was the direct cause of the following exception:\n",
      "\u001b[0;31mRuntimeError\u001b[0m                              Traceback (most recent call last)",
      "\u001b[0;32m<ipython-input-133-7d437ca5c081>\u001b[0m in \u001b[0;36m<module>\u001b[0;34m\u001b[0m\n\u001b[0;32m----> 1\u001b[0;31m \u001b[0miapetus_inflection\u001b[0m \u001b[0;34m=\u001b[0m \u001b[0mget_piecewise_lines\u001b[0m\u001b[0;34m(\u001b[0m\u001b[0mbinned_dict\u001b[0m\u001b[0;34m,\u001b[0m\u001b[0;34m'Iapetus-bright'\u001b[0m\u001b[0;34m,\u001b[0m\u001b[0;36m5000\u001b[0m\u001b[0;34m)\u001b[0m\u001b[0;34m\u001b[0m\u001b[0;34m\u001b[0m\u001b[0m\n\u001b[0m",
      "\u001b[0;32m<ipython-input-107-78b0c62f33dd>\u001b[0m in \u001b[0;36mget_piecewise_lines\u001b[0;34m(binned_dict, key, n)\u001b[0m\n\u001b[1;32m      4\u001b[0m     \u001b[0minput_list\u001b[0m \u001b[0;34m=\u001b[0m \u001b[0;34m[\u001b[0m\u001b[0;34m(\u001b[0m\u001b[0mx\u001b[0m\u001b[0;34m,\u001b[0m\u001b[0my_ndist\u001b[0m\u001b[0;34m)\u001b[0m \u001b[0;32mfor\u001b[0m \u001b[0mi\u001b[0m \u001b[0;32min\u001b[0m \u001b[0mrange\u001b[0m\u001b[0;34m(\u001b[0m\u001b[0mn\u001b[0m\u001b[0;34m)\u001b[0m\u001b[0;34m]\u001b[0m\u001b[0;34m\u001b[0m\u001b[0;34m\u001b[0m\u001b[0m\n\u001b[1;32m      5\u001b[0m     \u001b[0;32mwith\u001b[0m \u001b[0mPool\u001b[0m\u001b[0;34m(\u001b[0m\u001b[0;36m5\u001b[0m\u001b[0;34m)\u001b[0m \u001b[0;32mas\u001b[0m \u001b[0mpool\u001b[0m\u001b[0;34m:\u001b[0m\u001b[0;34m\u001b[0m\u001b[0;34m\u001b[0m\u001b[0m\n\u001b[0;32m----> 6\u001b[0;31m         \u001b[0mlrs\u001b[0m \u001b[0;34m=\u001b[0m \u001b[0mpool\u001b[0m\u001b[0;34m.\u001b[0m\u001b[0mmap\u001b[0m\u001b[0;34m(\u001b[0m\u001b[0mfind_piecewise_i\u001b[0m\u001b[0;34m,\u001b[0m \u001b[0minput_list\u001b[0m\u001b[0;34m)\u001b[0m\u001b[0;34m\u001b[0m\u001b[0;34m\u001b[0m\u001b[0m\n\u001b[0m\u001b[1;32m      7\u001b[0m         \u001b[0mpool\u001b[0m\u001b[0;34m.\u001b[0m\u001b[0mclose\u001b[0m\u001b[0;34m(\u001b[0m\u001b[0;34m)\u001b[0m\u001b[0;34m\u001b[0m\u001b[0;34m\u001b[0m\u001b[0m\n\u001b[1;32m      8\u001b[0m     \u001b[0;32mreturn\u001b[0m \u001b[0mpd\u001b[0m\u001b[0;34m.\u001b[0m\u001b[0mDataFrame\u001b[0m\u001b[0;34m(\u001b[0m\u001b[0mlrs\u001b[0m\u001b[0;34m,\u001b[0m\u001b[0mcolumns\u001b[0m\u001b[0;34m=\u001b[0m\u001b[0;34m[\u001b[0m\u001b[0;34m'x_ip'\u001b[0m\u001b[0;34m,\u001b[0m\u001b[0;34m'y_ip'\u001b[0m\u001b[0;34m,\u001b[0m\u001b[0;34m'k2'\u001b[0m\u001b[0;34m]\u001b[0m\u001b[0;34m)\u001b[0m\u001b[0;34m\u001b[0m\u001b[0;34m\u001b[0m\u001b[0m\n",
      "\u001b[0;32m/opt/miniconda3/lib/python3.7/multiprocessing/pool.py\u001b[0m in \u001b[0;36mmap\u001b[0;34m(self, func, iterable, chunksize)\u001b[0m\n\u001b[1;32m    266\u001b[0m         \u001b[0;32min\u001b[0m \u001b[0ma\u001b[0m \u001b[0mlist\u001b[0m \u001b[0mthat\u001b[0m \u001b[0;32mis\u001b[0m \u001b[0mreturned\u001b[0m\u001b[0;34m.\u001b[0m\u001b[0;34m\u001b[0m\u001b[0;34m\u001b[0m\u001b[0m\n\u001b[1;32m    267\u001b[0m         '''\n\u001b[0;32m--> 268\u001b[0;31m         \u001b[0;32mreturn\u001b[0m \u001b[0mself\u001b[0m\u001b[0;34m.\u001b[0m\u001b[0m_map_async\u001b[0m\u001b[0;34m(\u001b[0m\u001b[0mfunc\u001b[0m\u001b[0;34m,\u001b[0m \u001b[0miterable\u001b[0m\u001b[0;34m,\u001b[0m \u001b[0mmapstar\u001b[0m\u001b[0;34m,\u001b[0m \u001b[0mchunksize\u001b[0m\u001b[0;34m)\u001b[0m\u001b[0;34m.\u001b[0m\u001b[0mget\u001b[0m\u001b[0;34m(\u001b[0m\u001b[0;34m)\u001b[0m\u001b[0;34m\u001b[0m\u001b[0;34m\u001b[0m\u001b[0m\n\u001b[0m\u001b[1;32m    269\u001b[0m \u001b[0;34m\u001b[0m\u001b[0m\n\u001b[1;32m    270\u001b[0m     \u001b[0;32mdef\u001b[0m \u001b[0mstarmap\u001b[0m\u001b[0;34m(\u001b[0m\u001b[0mself\u001b[0m\u001b[0;34m,\u001b[0m \u001b[0mfunc\u001b[0m\u001b[0;34m,\u001b[0m \u001b[0miterable\u001b[0m\u001b[0;34m,\u001b[0m \u001b[0mchunksize\u001b[0m\u001b[0;34m=\u001b[0m\u001b[0;32mNone\u001b[0m\u001b[0;34m)\u001b[0m\u001b[0;34m:\u001b[0m\u001b[0;34m\u001b[0m\u001b[0;34m\u001b[0m\u001b[0m\n",
      "\u001b[0;32m/opt/miniconda3/lib/python3.7/multiprocessing/pool.py\u001b[0m in \u001b[0;36mget\u001b[0;34m(self, timeout)\u001b[0m\n\u001b[1;32m    655\u001b[0m             \u001b[0;32mreturn\u001b[0m \u001b[0mself\u001b[0m\u001b[0;34m.\u001b[0m\u001b[0m_value\u001b[0m\u001b[0;34m\u001b[0m\u001b[0;34m\u001b[0m\u001b[0m\n\u001b[1;32m    656\u001b[0m         \u001b[0;32melse\u001b[0m\u001b[0;34m:\u001b[0m\u001b[0;34m\u001b[0m\u001b[0;34m\u001b[0m\u001b[0m\n\u001b[0;32m--> 657\u001b[0;31m             \u001b[0;32mraise\u001b[0m \u001b[0mself\u001b[0m\u001b[0;34m.\u001b[0m\u001b[0m_value\u001b[0m\u001b[0;34m\u001b[0m\u001b[0;34m\u001b[0m\u001b[0m\n\u001b[0m\u001b[1;32m    658\u001b[0m \u001b[0;34m\u001b[0m\u001b[0m\n\u001b[1;32m    659\u001b[0m     \u001b[0;32mdef\u001b[0m \u001b[0m_set\u001b[0m\u001b[0;34m(\u001b[0m\u001b[0mself\u001b[0m\u001b[0;34m,\u001b[0m \u001b[0mi\u001b[0m\u001b[0;34m,\u001b[0m \u001b[0mobj\u001b[0m\u001b[0;34m)\u001b[0m\u001b[0;34m:\u001b[0m\u001b[0;34m\u001b[0m\u001b[0;34m\u001b[0m\u001b[0m\n",
      "\u001b[0;31mRuntimeError\u001b[0m: Optimal parameters not found: Number of calls to function has reached maxfev = 800."
     ]
    }
   ],
   "source": [
    "iapetus_inflection = get_piecewise_lines(binned_dict,'Iapetus-bright',5000)"
   ]
  },
  {
   "cell_type": "code",
   "execution_count": 183,
   "metadata": {},
   "outputs": [
    {
     "ename": "NameError",
     "evalue": "name 'iapetus_inflection' is not defined",
     "output_type": "error",
     "traceback": [
      "\u001b[0;31m---------------------------------------------------------------------------\u001b[0m",
      "\u001b[0;31mNameError\u001b[0m                                 Traceback (most recent call last)",
      "\u001b[0;32m<ipython-input-183-b76fb60af50d>\u001b[0m in \u001b[0;36m<module>\u001b[0;34m\u001b[0m\n\u001b[0;32m----> 1\u001b[0;31m \u001b[0;36m10\u001b[0m\u001b[0;34m**\u001b[0m\u001b[0miapetus_inflection\u001b[0m\u001b[0;34m.\u001b[0m\u001b[0mmedian\u001b[0m\u001b[0;34m(\u001b[0m\u001b[0;34m)\u001b[0m\u001b[0;34m[\u001b[0m\u001b[0;34m'x_ip'\u001b[0m\u001b[0;34m]\u001b[0m\u001b[0;34m\u001b[0m\u001b[0;34m\u001b[0m\u001b[0m\n\u001b[0m",
      "\u001b[0;31mNameError\u001b[0m: name 'iapetus_inflection' is not defined"
     ]
    }
   ],
   "source": [
    "10**iapetus_inflection.median()['x_ip']"
   ]
  },
  {
   "cell_type": "code",
   "execution_count": null,
   "metadata": {},
   "outputs": [],
   "source": [
    "binned_dict = binned_dict_unscaled\n",
    "fig = plt.figure()\n",
    "key='Mimas'\n",
    "binned_dict[key].plot(y='density_sf',x='D_sf', \\\n",
    "                      yerr=np.array([binned_dict[key][['lower_sf','upper_sf']].values.transpose()]), \n",
    "                      logx=True, logy=True, kind='scatter', \n",
    "                      color=color_dict[body_dict[key]], legend=True, s=50, figsize=(10,10))\n",
    "plt.xticks(size=20)\n",
    "plt.yticks(size=20)\n",
    "plt.ylabel('Cumulative Crater Density',size=18)\n",
    "plt.xlabel('Unscaled Crater Diameter (km)',size=18)\n",
    "custom_lines = [Line2D([0], [0], color=color_dict[body_dict[key]], lw=8)]\n",
    "plt.legend(custom_lines, [key],labelspacing=0.7, fontsize=22, loc=1)\n",
    "xd = np.linspace(0.5, 3, 100)\n",
    "xip,yip,k2 = tuple(mimas_piecewise.median().tolist())\n",
    "plt.plot(10**xd, 10**piecewise_linear(xd,xip,yip,k2),'gray')\n",
    "plt.plot(10**xd, 10**(-1*k2*xip + yip + k2*xd),'gray',linestyle='--')\n",
    "plt.plot(10**xd, 10**(1.83*xip + yip - 1.83*xd),'gray',linestyle='--')\n",
    "plt.xlim([3,900])\n",
    "plt.ylim([0.8*10.0**-7,10.0**-2])\n",
    "fig=plt.gcf()\n",
    "fig.savefig('MimasFit.pdf', bbox_inches='tight')"
   ]
  },
  {
   "cell_type": "code",
   "execution_count": null,
   "metadata": {},
   "outputs": [],
   "source": [
    "binned_dict = binned_dict_unscaled\n",
    "fig = plt.figure()\n",
    "key='Tethys'\n",
    "binned_dict[key].plot(y='density_sf',x='D_sf', \\\n",
    "                      yerr=np.array([binned_dict[key][['lower_sf','upper_sf']].values.transpose()]), \n",
    "                      logx=True, logy=True, kind='scatter', \n",
    "                      color=color_dict[body_dict[key]], legend=True, s=50, figsize=(10,10))\n",
    "plt.xticks(size=20)\n",
    "plt.yticks(size=20)\n",
    "plt.ylabel('Cumulative Crater Density',size=18)\n",
    "plt.xlabel('Unscaled Crater Diameter (km)',size=18)\n",
    "custom_lines = [Line2D([0], [0], color=color_dict[body_dict[key]], lw=8)]\n",
    "plt.legend(custom_lines, [key],labelspacing=0.7, fontsize=22, loc=1)\n",
    "xd = np.linspace(0.5, 3, 100)\n",
    "xip,yip = tethys_inflection['x_ip'].median(),tethys_inflection['y_ip'].median()\n",
    "plt.plot(10**xd, 10**piecewise_linear(xd,xip,yip),'gray')\n",
    "plt.plot(10**xd, 10**(2.5*xip + yip - 2.5*xd),'gray',linestyle='--')\n",
    "plt.plot(10**xd, 10**(1.83*xip + yip - 1.83*xd),'gray',linestyle='--')\n",
    "plt.xlim([3,900])\n",
    "plt.ylim([0.8*10.0**-7,10.0**-2])\n",
    "fig=plt.gcf()\n",
    "fig.savefig('TethysFit.pdf', bbox_inches='tight')"
   ]
  },
  {
   "cell_type": "code",
   "execution_count": null,
   "metadata": {},
   "outputs": [],
   "source": [
    "binned_dict = binned_dict_unscaled\n",
    "fig = plt.figure()\n",
    "key='Dione-cp'\n",
    "binned_dict[key].plot(y='density_sf',x='D_sf', \\\n",
    "                      yerr=np.array([binned_dict[key][['lower_sf','upper_sf']].values.transpose()]), \n",
    "                      logx=True, logy=True, kind='scatter', \n",
    "                      color=color_dict[body_dict[key]], legend=True, s=50, figsize=(10,10))\n",
    "plt.xticks(size=20)\n",
    "plt.yticks(size=20)\n",
    "plt.ylabel('Cumulative Crater Density',size=18)\n",
    "plt.xlabel('Unscaled Crater Diameter (km)',size=18)\n",
    "custom_lines = [Line2D([0], [0], color=color_dict[body_dict[key]], lw=8)]\n",
    "plt.legend(custom_lines, [key],labelspacing=0.7, fontsize=22, loc=1)\n",
    "xd = np.linspace(0.5, 3, 100)\n",
    "xip,yip = dione_inflection['x_ip'].median(),dione_inflection['y_ip'].median()\n",
    "plt.plot(10**xd, 10**piecewise_linear(xd,xip,yip),'gray')\n",
    "plt.plot(10**xd, 10**(2.5*xip + yip - 2.5*xd),'gray',linestyle='--')\n",
    "plt.plot(10**xd, 10**(1.83*xip + yip - 1.83*xd),'gray',linestyle='--')\n",
    "plt.xlim([3,900])\n",
    "plt.ylim([0.8*10.0**-7,10.0**-2])\n",
    "fig=plt.gcf()\n",
    "fig.savefig('DioneFit.pdf', bbox_inches='tight')"
   ]
  },
  {
   "cell_type": "code",
   "execution_count": null,
   "metadata": {},
   "outputs": [],
   "source": [
    "tuple(iapetus_no_basins.tolist())"
   ]
  },
  {
   "cell_type": "code",
   "execution_count": null,
   "metadata": {},
   "outputs": [],
   "source": [
    "binned_dict = binned_dict_unscaled\n",
    "fig = plt.figure()\n",
    "key='Iapetus-bright'\n",
    "binned_dict[key].plot(y='density_sf',x='D_sf', \\\n",
    "                      yerr=np.array([binned_dict[key][['lower_sf','upper_sf']].values.transpose()]), \n",
    "                      logx=True, logy=True, kind='scatter', \n",
    "                      color=color_dict[body_dict[key]], legend=True, s=50, figsize=(10,10))\n",
    "plt.xticks(size=20)\n",
    "plt.yticks(size=20)\n",
    "plt.ylabel('Cumulative Crater Density',size=18)\n",
    "plt.xlabel('Unscaled Crater Diameter (km)',size=18)\n",
    "custom_lines = [Line2D([0], [0], color=color_dict[body_dict[key]], lw=8)]\n",
    "plt.legend(custom_lines, [key],labelspacing=0.7, fontsize=22, loc=1)\n",
    "xd = np.linspace(0.5, 3, 100)\n",
    "m,b = tuple(iapetus_no_basins.tolist())\n",
    "plt.plot(10**xd, 10**(m*xd + b),'gray',linestyle='--')\n",
    "plt.xlim([3,900])\n",
    "plt.ylim([0.8*10.0**-7,10.0**-2])\n",
    "fig=plt.gcf()\n",
    "fig.savefig('IapetusNoBasinFit.pdf', bbox_inches='tight')"
   ]
  },
  {
   "cell_type": "code",
   "execution_count": null,
   "metadata": {},
   "outputs": [],
   "source": [
    "binned_dict = binned_dict_unscaled\n",
    "fig = plt.figure()\n",
    "key='Iapetus-bright'\n",
    "binned_dict[key].plot(y='density_sf',x='D_sf', \\\n",
    "                      yerr=np.array([binned_dict[key][['lower_sf','upper_sf']].values.transpose()]), \n",
    "                      logx=True, logy=True, kind='scatter', \n",
    "                      color=color_dict[body_dict[key]], legend=True, s=50, figsize=(10,10))\n",
    "plt.xticks(size=20)\n",
    "plt.yticks(size=20)\n",
    "plt.ylabel('Cumulative Crater Density',size=18)\n",
    "plt.xlabel('Unscaled Crater Diameter (km)',size=18)\n",
    "custom_lines = [Line2D([0], [0], color=color_dict[body_dict[key]], lw=8)]\n",
    "plt.legend(custom_lines, [key],labelspacing=0.7, fontsize=22, loc=1)\n",
    "xd = np.linspace(0.5, 3, 100)\n",
    "xip,yip = iapetus_inflection['x_ip'].median(),iapetus_inflection['y_ip'].median()\n",
    "plt.plot(10**xd, 10**piecewise_linear(xd,xip,yip),'gray')\n",
    "plt.plot(10**xd, 10**(2.5*xip + yip - 2.5*xd),'gray',linestyle='--')\n",
    "plt.plot(10**xd, 10**(1.83*xip + yip - 1.83*xd),'gray',linestyle='--')\n",
    "plt.xlim([3,900])\n",
    "plt.ylim([0.8*10.0**-7,10.0**-2])\n",
    "fig=plt.gcf()\n",
    "fig.savefig('IapetusFit.pdf', bbox_inches='tight')"
   ]
  },
  {
   "cell_type": "code",
   "execution_count": null,
   "metadata": {},
   "outputs": [],
   "source": [
    "binned_dict = binned_dict_unscaled\n",
    "fig = plt.figure()\n",
    "key='Mimas'\n",
    "ax=binned_dict[key].plot(y='density_sf',x='D_sf', \\\n",
    "                      yerr=np.array([binned_dict[key][['lower_sf','upper_sf']].values.transpose()]), \n",
    "                      logx=True, logy=True, kind='scatter', \n",
    "                      color='Black', legend=True, s=50, figsize=(10,10))\n",
    "key='Mimas'\n",
    "binned_dict_p65[key].plot(y='density_sf',x='D_sf', \\\n",
    "                      yerr=np.array([binned_dict_p65[key][['lower_sf','upper_sf']].values.transpose()]), \n",
    "                      logx=True, logy=True, kind='scatter', \n",
    "                      color=color_dict[body_dict[key]], legend=True, s=50, figsize=(10,10),ax=ax)\n",
    "binned_dict_h65[key].plot(y='density_sf',x='D_sf', \\\n",
    "                      yerr=np.array([binned_dict_h65[key][['lower_sf','upper_sf']].values.transpose()]), \n",
    "                      logx=True, logy=True, kind='scatter', \n",
    "                      color=color_dict[body_dict[key]], legend=True, s=50, figsize=(10,10),ax=ax)\n",
    "plt.xticks(size=20)\n",
    "plt.yticks(size=20)\n",
    "plt.ylabel('Cumulative Crater Density',size=18)\n",
    "plt.xlabel('Unscaled Crater Diameter (km)',size=18)\n",
    "custom_lines = [Line2D([0], [0], color=color, lw=8) for color in ['gray','black']]\n",
    "ax.legend(custom_lines, ['unscaled','p65'],labelspacing=0.7, fontsize=22, loc=1)\n",
    "plt.xlim([3,900])\n",
    "plt.ylim([0.8*10.0**-7,10.0**-2])"
   ]
  },
  {
   "cell_type": "code",
   "execution_count": null,
   "metadata": {},
   "outputs": [],
   "source": [
    "binned_dict = binned_dict_unscaled\n",
    "fig = plt.figure()\n",
    "key='Dione-sp'\n",
    "ax=binned_dict[key].plot(y='density_sf',x='D_sf', \\\n",
    "                      yerr=np.array([binned_dict[key][['lower_sf','upper_sf']].values.transpose()]), \n",
    "                      logx=True, logy=True, kind='scatter', \n",
    "                      color='Black', legend=True, s=50, figsize=(10,10))\n",
    "key='Dione-cp'\n",
    "binned_dict[key].plot(y='density_sf',x='D_sf', \\\n",
    "                      yerr=np.array([binned_dict[key][['lower_sf','upper_sf']].values.transpose()]), \n",
    "                      logx=True, logy=True, kind='scatter', \n",
    "                      color=color_dict[body_dict[key]], legend=True, s=50, figsize=(10,10),ax=ax)\n",
    "plt.xticks(size=20)\n",
    "plt.yticks(size=20)\n",
    "plt.ylabel('Cumulative Crater Density',size=18)\n",
    "plt.xlabel('Unscaled Crater Diameter (km)',size=18)\n",
    "custom_lines = [Line2D([0], [0], color=color, lw=8) for color in ['gray','black']]\n",
    "ax.legend(custom_lines, ['Dione-cp','Dione-sp'],labelspacing=0.7, fontsize=22, loc=1)\n",
    "xd = np.linspace(0.5, 3, 100)\n",
    "xip,yip = dione_inflection['x_ip'].median(),dione_inflection['y_ip'].median()\n",
    "plt.plot(10**xd, 10**piecewise_linear_fixed(xd,xip,yip),'gray')\n",
    "plt.plot(10**xd, 10**(2.5*xip + yip - 2.5*xd),'gray',linestyle='--')\n",
    "plt.plot(10**xd, 10**(-0.4 + 2.5*xip + yip - 2.5*xd),'k',linestyle='--')\n",
    "plt.xlim([3,900])\n",
    "plt.ylim([0.8*10.0**-7,10.0**-2])\n",
    "fig=plt.gcf()\n",
    "fig.savefig('DioneSaturation.pdf', bbox_inches='tight')"
   ]
  },
  {
   "cell_type": "code",
   "execution_count": null,
   "metadata": {},
   "outputs": [],
   "source": [
    "plt.rcParams['errorbar.capsize'] = 12\n",
    "title_list = ['Heliocentric','Planetocentric','','','','']\n",
    "binned_dict_list = [binned_dict_h48,binned_dict_p48,'',binned_dict_h65,binned_dict_p65,'']\n",
    "fig = plt.figure(figsize=(33,22))\n",
    "for i in list(range(6)):\n",
    "    if i%3!=2:\n",
    "        ax = fig.add_subplot(231 + i)\n",
    "        binned_dict = binned_dict_list[i]\n",
    "        plt.rcParams['errorbar.capsize'] = 12\n",
    "        plt.rcParams['lines.linewidth'] = 4\n",
    "        ax = binned_dict['Tethys'].plot(y='density_sf',x='D_sf',logx=True, logy=True, kind='scatter', legend=True, ax=ax)\n",
    "        for key in cp_keys:\n",
    "            binned_dict[key].plot(y='density_sf',x='D_sf', \\\n",
    "                              yerr=np.array([binned_dict[key][['lower_sf','upper_sf']].values.transpose()]), \n",
    "                              logx=True, logy=True, kind='scatter', \n",
    "                              ax=ax, color=color_dict[key], legend=True, s=200)\n",
    "        titan_data.plot(y='density', x='D', yerr=np.array([titan_data[['lower','upper']].values.transpose()]), \\\n",
    "                        color='black', logx=True, logy=True, kind='scatter', ax=ax, s=200)\n",
    "        plt.xticks(size=30)\n",
    "        if i%3==0:\n",
    "            plt.yticks(size=30)\n",
    "            plt.ylabel('Cumulative Crater Density',size=38)\n",
    "        else:\n",
    "            ax.get_yaxis().set_ticklabels([])\n",
    "            plt.ylabel('',size=1)\n",
    "        plt.xlabel('Scaled Crater Diameter (km)',size=38)\n",
    "        plt.title(title_list[i],size=38)\n",
    "        plt.xlim([4,900])\n",
    "        plt.ylim([5*10.0**-9,2*10.0**-3])\n",
    "        if i < 3:\n",
    "            plt.text(150,10**-3.5,'α=0.48',fontsize=32)\n",
    "        else:\n",
    "            plt.text(150,10**-3.5,'α=0.65',fontsize=32)\n",
    "    elif i==2:\n",
    "        ax = fig.add_subplot(231 + i)\n",
    "        custom_lines = [Line2D([0], [0], color=color_dict[key], lw=8) for key in cp_keys]\n",
    "        custom_lines.insert(5,Line2D([0], [0], color='Black', lw=8))\n",
    "        ax.legend(custom_lines, cp_keys[:5] + ['Titan'] + [cp_keys[5]],labelspacing=0.7, fontsize=22, loc=2)\n",
    "        ax.get_yaxis().set_visible(False)\n",
    "        ax.get_yaxis().set_ticklabels([])\n",
    "        ax.get_xaxis().set_visible(False)\n",
    "        ax.get_xaxis().set_ticklabels([])\n",
    "        ax.spines['right'].set_visible(False)\n",
    "        ax.spines['bottom'].set_visible(False)\n",
    "        ax.spines['top'].set_visible(False)\n",
    "        \n",
    "    ax.get_xaxis().set_tick_params(direction='in', which='both')\n",
    "    ax.get_yaxis().set_tick_params(direction='in', which='both')\n",
    "    ax.get_xaxis().set_tick_params(length=14, width=2)\n",
    "    ax.get_xaxis().set_tick_params(length=7, width=2, which='minor')\n",
    "    ax.get_yaxis().set_tick_params(length=14, width=2)\n",
    "    ax.get_yaxis().set_tick_params(length=7, width=2, which='minor')\n",
    "    ax.get_xaxis().set_ticks_position('both')\n",
    "    ax.get_yaxis().set_ticks_position('both')\n",
    "    ax.get_xaxis().set_tick_params(pad=10, which='both')\n",
    "    ax.get_yaxis().set_tick_params(pad=5, which='both')\n",
    "    \n",
    "fig.subplots_adjust(wspace=0,hspace=0)\n",
    "\n",
    "pfig = plt.gcf()\n",
    "pfig.savefig('CraterCountsPanel.pdf',bbox_inches='tight')\n",
    "plt.rcParams['lines.linewidth'] = 1"
   ]
  },
  {
   "cell_type": "code",
   "execution_count": null,
   "metadata": {},
   "outputs": [],
   "source": [
    "def get_titan_lines(n):\n",
    "    data = pd.DataFrame(titan_data['D'])\n",
    "    x = list(titan_data['D'].apply(log))\n",
    "    lrs = []\n",
    "    for i in list(range(n)):\n",
    "        data = data.assign(y = titan_data['ndist'].apply(random.choice))\n",
    "        y = list(data['y'].apply(log))\n",
    "        m,b,r,p,stderr = linregress(x,y)\n",
    "        lrs.append((m,b))\n",
    "    return pd.DataFrame(lrs,columns=['m','b'])"
   ]
  },
  {
   "cell_type": "code",
   "execution_count": null,
   "metadata": {},
   "outputs": [],
   "source": [
    "fig = plt.figure()\n",
    "titan_data.plot(y='density', x='D', yerr=(titan_data[['lower','upper']].values.transpose()), color='white', \\\n",
    "                logx=True, logy=True, kind='scatter',figsize=(20,12), ylim=[10**-8.2,10**-6.7], xlim=[8,1000])\n",
    "data = pd.DataFrame(titan_data['D'])\n",
    "x = list(titan_data['D'].apply(log))\n",
    "for i in range(1):\n",
    "    data = data.assign(y = titan_data['ndist'].apply(random.choice))\n",
    "    y = list(data['y'].apply(log))\n",
    "    m,b,r,p,stderr = linregress(x,y)\n",
    "    xmin=8\n",
    "    xmax=1000\n",
    "    plt.plot([xmin,xmax],[10**(b + m*log(xmin)), 10**(b + m*log(xmax))],'g')\n",
    "    plt.plot(10**np.array(x),10**np.array(y),'ko',markersize=8)\n",
    "plt.xticks(size=20)\n",
    "plt.yticks(size=20)\n",
    "plt.xlabel('Crater Diameter (km)',size=26)\n",
    "plt.ylabel('Crater Density',size=26)\n",
    "plt.title('Regression Lines of Randomly Sampled Titan Crater Counts',size=30)\n",
    "fig=plt.gcf()\n",
    "fig.savefig('RandomSample1.pdf', bbox_inches='tight')"
   ]
  },
  {
   "cell_type": "code",
   "execution_count": null,
   "metadata": {},
   "outputs": [],
   "source": [
    "def get_percentile(lines,x,p):\n",
    "    vlist = [line.m*x + line.b for line in lines.itertuples()]\n",
    "    return np.percentile(vlist,p)"
   ]
  },
  {
   "cell_type": "code",
   "execution_count": null,
   "metadata": {},
   "outputs": [],
   "source": [
    "titan_lines = get_titan_lines(1000)"
   ]
  },
  {
   "cell_type": "code",
   "execution_count": null,
   "metadata": {},
   "outputs": [],
   "source": [
    "def plot_moon_lines(binned_dict,key,n,ax = 'None',do_legend = True):\n",
    "    moon_lines = get_lines(binned_dict,key,n)\n",
    "    xe = np.arange(0.5,3,0.01)\n",
    "    mtitan = [10**get_percentile(titan_lines,xei,50.0) for xei in xe]\n",
    "    utitan = [10**get_percentile(titan_lines,xei,84.1345) for xei in xe]\n",
    "    ltitan = [10**get_percentile(titan_lines,xei,100.0-84.1345) for xei in xe]\n",
    "    mmoon = [10**get_percentile(moon_lines,xei,50.0) for xei in xe]\n",
    "    umoon = [10**get_percentile(moon_lines,xei,84.1345) for xei in xe]\n",
    "    lmoon = [10**get_percentile(moon_lines,xei,100.0-84.1345) for xei in xe]\n",
    "    if ax == 'None':\n",
    "        ax = binned_dict[key].plot(y='density_sf',x='D_sf',logx=True, logy=True, kind='scatter')\n",
    "    else:\n",
    "        binned_dict[key].plot(y='density_sf',x='D_sf',logx=True, logy=True, kind='scatter', ax=ax)\n",
    "    binned_dict[key].plot(y='density_sf',x='D_sf', yerr=(binned_dict[key][['lower_sf','upper_sf']].values.transpose()), \n",
    "                          logx=True, logy=True, kind='scatter', \n",
    "                          ax=ax, color=color_dict[key], s=30)\n",
    "    titan_data.plot(y='density', x='D', yerr=(titan_data[['lower','upper']].values.transpose()), color='black', \\\n",
    "                    logx=True, logy=True, kind='scatter', ax=ax, s=30)\n",
    "    pd.DataFrame({'Titan upper bound':utitan,'Titan median':mtitan,'Titan lower bound':ltitan},index=[10**i for i in xe]).plot(\\\n",
    "                    logx=True, logy=True, ax=ax, color='black',\\\n",
    "                    style=[':','-',':'], legend=do_legend)\n",
    "    pd.DataFrame({key.partition('-')[0] + ' upper bound':umoon, key.partition('-')[0] + ' median':mmoon, key.partition('-')[0] + ' lower bound':lmoon},index=[10**i for i in xe]).plot(\\\n",
    "                        logx=True, logy=True, ax=ax, color=color_dict[key],\\\n",
    "                        style=[':','-',':'], legend=do_legend)\n",
    "    plt.xticks(size=16)\n",
    "    plt.yticks(size=16)\n",
    "    plt.ylim([10**-8.75,10**-2.5])\n",
    "    plt.xlabel('Crater Diameter (km)',size=22)\n",
    "    plt.ylabel('Crater Density',size=22)"
   ]
  },
  {
   "cell_type": "code",
   "execution_count": null,
   "metadata": {},
   "outputs": [],
   "source": []
  },
  {
   "cell_type": "code",
   "execution_count": null,
   "metadata": {},
   "outputs": [],
   "source": [
    "def get_mean_m(binned_dict,n):\n",
    "    slopes=[]\n",
    "    for key in cp_keys:\n",
    "        slopes.append(get_lines(binned_dict,key,n)['m'].median())\n",
    "    m_df = pd.DataFrame({'slope':slopes}, index = cp_keys)\n",
    "    return float(m_df.drop('Enceladus-cp').mean()),float(m_df.drop('Enceladus-cp').std())\n",
    "\n",
    "def get_mean_m_dist(binned_dict,n):\n",
    "    t1=time.time()\n",
    "    slopes=[]\n",
    "    for key in set(cp_keys)-{'Enceladus-cp'}:\n",
    "        slopes.append(get_lines(binned_dict,key,n)['m'])\n",
    "    t2=time.time()\n",
    "    #print('Run time: ' + str(round(t2-t1,2)) + ' s')\n",
    "    mean_m_dist = [np.mean([random.choice(slope) for slope in slopes]) for i in range(n)]\n",
    "    return mean_m_dist\n",
    "\n",
    "def get_m_and_b(binned_dict,key,n,mean_m_dist):\n",
    "    data = pd.DataFrame(binned_dict[key]['D_sf'])\n",
    "    x_data = list(binned_dict[key]['D_sf'].apply(log))\n",
    "    bs = []\n",
    "    for i in list(range(n)):\n",
    "        data = data.assign(y = binned_dict[key]['ndist_sf'].apply(random.choice))\n",
    "        y_data = list(data['y'].apply(log))\n",
    "        m = np.random.choice(mean_m_dist)\n",
    "        def test_func(x, b):\n",
    "            return m*x + b\n",
    "        params, params_covariance = optimize.curve_fit(test_func, x_data, y_data)\n",
    "        bs.append((m,params[0]))\n",
    "    return bs\n",
    "\n",
    "def calc_moon_b(input_tuple):\n",
    "    binned_dict,key,m,x_data = input_tuple\n",
    "    y_data = list(binned_dict[key]['ndist_sf'].apply(random.choice).apply(log))\n",
    "    def test_func(x, b):\n",
    "        return m*x + b\n",
    "    params, params_covariance = optimize.curve_fit(test_func, x_data, y_data)\n",
    "    moon_b = params[0]\n",
    "    return moon_b"
   ]
  },
  {
   "cell_type": "code",
   "execution_count": null,
   "metadata": {},
   "outputs": [],
   "source": [
    "key = 'Rhea'\n",
    "mean_m_dist = get_mean_m_dist(binned_dict_h65,1000)\n",
    "binned_dict = binned_dict_h65\n",
    "#data = pd.DataFrame(binned_dict[key]['D_sf'])\n",
    "#data_iapetus = pd.DataFrame(binned_dict['Iapetus-bright']['D_sf'])\n",
    "x_data = list(binned_dict[key]['D_sf'].apply(log))\n",
    "x_data_iapetus = list(binned_dict['Iapetus-bright']['D_sf'].apply(log))\n",
    "params = (binned_dict,key,mean_m_dist,x_data,x_data_iapetus)"
   ]
  },
  {
   "cell_type": "code",
   "execution_count": null,
   "metadata": {},
   "outputs": [],
   "source": []
  },
  {
   "cell_type": "code",
   "execution_count": null,
   "metadata": {},
   "outputs": [],
   "source": [
    "def get_moon_b(binned_dict,key,m_list):\n",
    "    x_data = list(binned_dict[key]['D_sf'].apply(log))\n",
    "    input_list = [(binned_dict,key,m,x_data) for m in m_list]\n",
    "    with Pool(5) as pool:\n",
    "        moon_bs = pool.map(calc_moon_b, input_list)\n",
    "        pool.close()\n",
    "    return np.array(moon_bs)\n",
    "\n",
    "def get_bs_dict(binned_dict,n1,n2):\n",
    "    mean_m_dist = get_mean_m_dist(binned_dict,n1)\n",
    "    bs_dict = {}\n",
    "    for key in cp_keys:\n",
    "        bs_dict[key] = np.array(get_m_and_b(binned_dict,key,n2,mean_m_dist))\n",
    "    return bs_dict,mean_m_dist"
   ]
  },
  {
   "cell_type": "code",
   "execution_count": null,
   "metadata": {},
   "outputs": [],
   "source": [
    "binned_dict = binned_dict_h48\n",
    "n1=1000\n",
    "t1=time.time()\n",
    "mean_m_dist = get_mean_m_dist(binned_dict,n1)\n",
    "t2=time.time()\n",
    "print(t2-t1)"
   ]
  },
  {
   "cell_type": "code",
   "execution_count": null,
   "metadata": {},
   "outputs": [],
   "source": [
    "binned_dict = binned_dict_h48\n",
    "n1=1000\n",
    "t1=time.time()\n",
    "mean_m_dist = get_mean_m_dist(binned_dict,n1)\n",
    "t2=time.time()\n",
    "print(t2-t1)\n",
    "n2=100000\n",
    "t1=time.time()\n",
    "input_list = [mean_m_dist for i in range(n2)]\n",
    "with Pool(5) as pool:\n",
    "    m_list = pool.map(np.random.choice,input_list)\n",
    "    pool.close()\n",
    "t2=time.time()\n",
    "print(t2-t1)\n"
   ]
  },
  {
   "cell_type": "code",
   "execution_count": null,
   "metadata": {},
   "outputs": [],
   "source": [
    "get_lines(binned_dict,'Mimas',1000)['m'].mean(),\\\n",
    "get_lines(binned_dict,'Dione-cp',1000)['m'].mean(),\\\n",
    "get_lines(binned_dict,'Tethys',1000)['m'].mean(),\\\n",
    "get_lines(binned_dict,'Rhea',1000)['m'].mean(),\\\n",
    "get_lines(binned_dict,'Iapetus-bright',1000)['m'].mean()"
   ]
  },
  {
   "cell_type": "code",
   "execution_count": null,
   "metadata": {},
   "outputs": [],
   "source": [
    "t1=time.time()\n",
    "x_data = list(binned_dict[key]['D_sf'].apply(log))\n",
    "input_list = [(binned_dict,key,m,x_data) for m in m_list]\n",
    "with Pool(5) as pool:\n",
    "    moon_bs = pool.map(calc_moon_b, input_list)\n",
    "    pool.close()\n",
    "t2=time.time()\n",
    "print(t2-t1)"
   ]
  },
  {
   "cell_type": "code",
   "execution_count": null,
   "metadata": {},
   "outputs": [],
   "source": [
    "def get_iapetus_ratio_dict(binned_dict,n1,n2):\n",
    "    mt1=time.time()\n",
    "    print('Generating inputs...')\n",
    "    t1=time.time()\n",
    "    mean_m_dist = get_mean_m_dist(binned_dict,n1)\n",
    "    input_list = [mean_m_dist for i in range(n2)]\n",
    "    with Pool(5) as pool:\n",
    "        m_list = pool.map(np.random.choice,input_list)\n",
    "        pool.close()\n",
    "    t2=time.time()\n",
    "    print('Inputs generated in: ' + str(round(t2-t1,3)) + ' s\\nCalculating ratios...')\n",
    "    bs_dict = {}\n",
    "    for key in cp_keys:\n",
    "        t1=time.time()\n",
    "        bs_dict[key] = np.array(get_moon_b(binned_dict,key,m_list))\n",
    "        t2=time.time()\n",
    "        print(key.partition('-')[0] + ' b values calculated in: ' + str(round(t2-t1,3)) + ' s')\n",
    "    ratio_dict = {}\n",
    "    print('Dividing...')\n",
    "    t1=time.time()\n",
    "    for key in set(cp_keys) - {'Iapetus-bright'}:\n",
    "        ratio_dict[key] = 10**(bs_dict['Iapetus-bright']-bs_dict[key])\n",
    "    t2=time.time()\n",
    "    print('Divisions finished in: ' + str(round(t2-t1,3)) + ' s')\n",
    "    mt2=time.time()\n",
    "    print('Full run time: ' + str(round(mt2-mt1,3)) + ' s')\n",
    "    return ratio_dict"
   ]
  },
  {
   "cell_type": "code",
   "execution_count": null,
   "metadata": {},
   "outputs": [],
   "source": [
    "if False:\n",
    "    t1=time.time()\n",
    "    n1=10000\n",
    "    n2=1000000\n",
    "    ir_h48_dict = get_iapetus_ratio_dict(binned_dict_h48,n1,n2)\n",
    "    ir_h65_dict = get_iapetus_ratio_dict(binned_dict_h65,n1,n2)\n",
    "    ir_p48_dict = get_iapetus_ratio_dict(binned_dict_p48,n1,n2)\n",
    "    ir_p65_dict = get_iapetus_ratio_dict(binned_dict_p65,n1,n2)\n",
    "    t2=time.time()\n",
    "    print('Total run time: ' + str(round(t2-t1,2)) + ' s')\n",
    "\n",
    "    pkl.dump( ir_h48_dict, open('ir_h48_dict.pkl', 'wb'))\n",
    "    pkl.dump( ir_h65_dict, open('ir_h65_dict.pkl', 'wb'))\n",
    "    pkl.dump( ir_p48_dict, open('ir_p48_dict.pkl', 'wb'))\n",
    "    pkl.dump( ir_p65_dict, open('ir_p65_dict.pkl', 'wb'))\n",
    "else:\n",
    "    ir_h48_dict = pkl.load(open('ir_h48_dict.pkl', 'rb'))\n",
    "    ir_h65_dict = pkl.load(open('ir_h65_dict.pkl', 'rb'))\n",
    "    ir_p48_dict = pkl.load(open('ir_p48_dict.pkl', 'rb'))\n",
    "    ir_p65_dict = pkl.load(open('ir_p65_dict.pkl', 'rb'))"
   ]
  },
  {
   "cell_type": "code",
   "execution_count": null,
   "metadata": {},
   "outputs": [],
   "source": [
    "t1=time.time()\n",
    "bs_h48_dict,mean_h48_m_dist = get_bs_dict(binned_dict_h48,1000,1000)\n",
    "bs_h65_dict,mean_h65_m_dist = get_bs_dict(binned_dict_h65,1000,1000)\n",
    "bs_p48_dict,mean_p48_m_dist = get_bs_dict(binned_dict_p48,1000,1000)\n",
    "bs_p65_dict,mean_p65_m_dist = get_bs_dict(binned_dict_p65,1000,1000)\n",
    "t2=time.time()\n",
    "print('Total run time: ' + str(round(t2-t1,2)) + ' s')"
   ]
  },
  {
   "cell_type": "code",
   "execution_count": null,
   "metadata": {},
   "outputs": [],
   "source": [
    "mean_h48_m,mean_h48_m_std = get_mean_m(binned_dict_h48,1000)\n",
    "mean_h65_m,mean_h65_m_std = get_mean_m(binned_dict_h65,1000)\n",
    "mean_p48_m,mean_p48_m_std = get_mean_m(binned_dict_p48,1000)\n",
    "mean_p65_m,mean_p65_m_std = get_mean_m(binned_dict_p65,1000)"
   ]
  },
  {
   "cell_type": "code",
   "execution_count": null,
   "metadata": {},
   "outputs": [],
   "source": [
    "mean_h48_m,mean_h65_m,mean_p48_m,mean_p65_m"
   ]
  },
  {
   "cell_type": "code",
   "execution_count": null,
   "metadata": {},
   "outputs": [],
   "source": [
    "def plot_mean_m_lines(bs_dict,binned_dict,key,ax = 'None',do_legend = True):\n",
    "    bs = bs_dict[key]\n",
    "    xe = np.arange(0.5,3,0.01)\n",
    "    mtitan = [10**get_percentile(titan_lines,xei,50.0) for xei in xe]\n",
    "    utitan = [10**get_percentile(titan_lines,xei,84.1345) for xei in xe]\n",
    "    ltitan = [10**get_percentile(titan_lines,xei,100.0-84.1345) for xei in xe]\n",
    "    mmoon = [np.median([10**(m*xei + b) for m,b in bs_dict[key]]) for xei in xe]\n",
    "    umoon = [np.percentile([10**(m*xei + b) for m,b in bs_dict[key]], 100.0-84.1345) for xei in xe]\n",
    "    lmoon = [np.percentile([10**(m*xei + b) for m,b in bs_dict[key]], 84.1345) for xei in xe]\n",
    "    if ax == 'None':\n",
    "        ax = binned_dict[key].plot(y='density_sf',x='D_sf',logx=True, logy=True, kind='scatter')\n",
    "    else:\n",
    "        binned_dict[key].plot(y='density_sf',x='D_sf',logx=True, logy=True, kind='scatter', ax=ax)\n",
    "    binned_dict[key].plot(y='density_sf',x='D_sf', \\\n",
    "                          yerr=np.array([binned_dict[key][['lower_sf','upper_sf']].values.transpose()]), \n",
    "                          logx=True, logy=True, kind='scatter', \n",
    "                          ax=ax, color=color_dict[key], s=30)\n",
    "    titan_data.plot(y='density', x='D', yerr=np.array([titan_data[['lower','upper']].values.transpose()]), \\\n",
    "                    color='black', \\\n",
    "                    logx=True, logy=True, kind='scatter', ax=ax, s=30)\n",
    "    pd.DataFrame({'Titan upper bound':utitan,'Titan median':mtitan,'Titan lower bound':ltitan},index=[10**i for i in xe]).plot(\\\n",
    "                    logx=True, logy=True, ax=ax, color='black',\\\n",
    "                    style=[':','-',':'], legend=do_legend)\n",
    "    pd.DataFrame({key.partition('-')[0] + ' upper bound':umoon, key.partition('-')[0] + ' median':mmoon, key.partition('-')[0] + ' lower bound':lmoon},index=[10**i for i in xe]).plot(\\\n",
    "                        logx=True, logy=True, ax=ax, color=color_dict[key],\\\n",
    "                        style=[':','-',':'], legend=do_legend)\n",
    "    #X = np.arange(1,1000,1.0)\n",
    "    #plt.plot(X, 10**(np.array(bs).mean() + mean_m*np.log10(X)), 'b-')\n",
    "    #plt.plot(X, 10**(np.percentile(bs, 100.0-84.1345) + mean_m*np.log10(X)), 'b:')\n",
    "    #plt.plot(X, 10**(np.percentile(bs, 84.1345) + mean_m*np.log10(X)), 'b:')\n",
    "    plt.xticks(size=16)\n",
    "    plt.yticks(size=16)\n",
    "    plt.ylim([10**-8.75,10**-2.5])\n",
    "    plt.xlabel('Crater Diameter (km)',size=22)\n",
    "    plt.ylabel('Crater Density',size=22)\n",
    "\n",
    "def plot_age_fraction_mean_m(bs_dict,key,ax='None'):\n",
    "    moon_ndist = [10**(m*log(titan_data.loc[0]['D']) + b) for m,b in bs_dict[key]]\n",
    "    moon_percentiles=[np.percentile(moon_ndist,i) for i in np.arange(0.05,100.0,0.05)]\n",
    "    menrva_ndist = titan_data.loc[0]['ndist']\n",
    "    age_dist_moon = (np.atleast_2d(np.array(menrva_ndist))*np.atleast_2d(1/np.array(moon_percentiles)).transpose()).flatten()\n",
    "    print(tuple(np.percentile(age_dist_moon,[100-84.1345,50,84.1345])))\n",
    "    if ax=='None':\n",
    "        fig = plt.figure(figsize=(10,10))\n",
    "        ax = fig.add_subplot(111)\n",
    "    Y,bin_edges=np.histogram(np.log10(age_dist_moon),1000, density=True)\n",
    "    bin_edges = 10**np.array(bin_edges)\n",
    "    Y = np.array(Y)/max(Y)\n",
    "    X =[np.mean([bin_edges[i], bin_edges[i+1]]) for i in list(range(len(bin_edges)-1))]\n",
    "    plt.plot(X,Y,color_dict[key], linewidth=3)\n",
    "    low1,med1,high1 = tuple(np.percentile(age_dist_moon,[100-84.1345,50,84.1345]))\n",
    "    ax.fill_between(X,0,Y, where=((low1<X)&(X<high1)), facecolor=color_dict[key], alpha=0.07)\n",
    "    ax.semilogx([med1,med1],[0,Y[next(x[0] for x in enumerate(X) if x[1] > med1)]],color=color_dict[key])\n",
    "    ax.semilogx([low1,low1],[0,Y[next(x[0] for x in enumerate(X) if x[1] > low1)]],':',color=color_dict[key])\n",
    "    ax.semilogx([high1,high1],[0,Y[next(x[0] for x in enumerate(X) if x[1] > high1)]],':',color=color_dict[key])\n",
    "    plt.xticks(size=16)\n",
    "    plt.yticks(size=16)\n",
    "    plt.xlabel('Titan:' + key + ' Ratio at Menrva',size=22)\n",
    "    plt.ylabel('Relative Probability Density',size=22)\n",
    "    #plt.xlim([np.percentile(age_dist_moon,1),np.percentile(age_dist_moon,99)])\n",
    "    plt.xlim([0.002,500])\n",
    "    plt.ylim([0,1.05])\n",
    "    return low1,med1,high1\n",
    "\n",
    "def plot_iapetus_fraction(ir_dict,key,ax='None',do_print=True,n_bins=100):\n",
    "    ir_dist = ir_dict[key]\n",
    "    if do_print:\n",
    "        print(tuple(np.percentile(ir_dist,[100-84.1345,50,84.1345])))\n",
    "    if ax=='None':\n",
    "        fig = plt.figure(figsize=(10,10))\n",
    "        ax = fig.add_subplot(111)\n",
    "    Y,bin_edges=np.histogram(np.log10(ir_dist),n_bins, density=True)\n",
    "    bin_edges = 10**np.array(bin_edges)\n",
    "    Y = np.array(Y)/max(Y)\n",
    "    X =[np.mean([bin_edges[i], bin_edges[i+1]]) for i in list(range(len(bin_edges)-1))]\n",
    "    plt.plot(X,Y,color_dict[key], linewidth=3)\n",
    "    low1,med1,high1 = tuple(np.percentile(ir_dist,[100-84.1345,50,84.1345]))\n",
    "    ax.fill_between(X,0,Y, where=((low1<X)&(X<high1)), facecolor=color_dict[key], alpha=0.07)\n",
    "    ax.semilogx([med1,med1],[0,Y[next(x[0] for x in enumerate(X) if x[1] > med1)]],color=color_dict[key])\n",
    "    ax.semilogx([low1,low1],[0,Y[next(x[0] for x in enumerate(X) if x[1] > low1)]],':',color=color_dict[key])\n",
    "    ax.semilogx([high1,high1],[0,Y[next(x[0] for x in enumerate(X) if x[1] > high1)]],':',color=color_dict[key])\n",
    "    plt.xticks(size=16)\n",
    "    plt.yticks(size=16)\n",
    "    plt.xlabel('Iapetus:' + key + ' Ratio',size=22)\n",
    "    plt.ylabel('Relative Probability Density',size=22)\n",
    "    #plt.xlim([np.percentile(age_dist_moon,1),np.percentile(age_dist_moon,99)])\n",
    "    plt.xlim([0.5,2000])\n",
    "    plt.ylim([0,1.05])\n",
    "    return ax"
   ]
  },
  {
   "cell_type": "code",
   "execution_count": null,
   "metadata": {},
   "outputs": [],
   "source": [
    "ax = plot_iapetus_fraction(ir_h48_dict,'Rhea')\n",
    "for key in set(cp_keys)-{'Iapetus-bright'}:\n",
    "    print(key.partition('-')[0])\n",
    "    plot_iapetus_fraction(ir_h48_dict,key,ax=ax)\n",
    "plt.xlabel('Iapetus:Moon Ratio',size=22)\n",
    "custom_lines = [Line2D([0], [0], color=color_dict[key], lw=8) for key in cp_keys[:5]]\n",
    "ax.legend(custom_lines, cp_keys[:5],labelspacing=0.7, fontsize=22, loc=5, bbox_to_anchor=(1.44, 0.835))"
   ]
  },
  {
   "cell_type": "code",
   "execution_count": null,
   "metadata": {},
   "outputs": [],
   "source": [
    "get_age_from_fraction(1-1/9.1265878712486739)"
   ]
  },
  {
   "cell_type": "code",
   "execution_count": null,
   "metadata": {},
   "outputs": [],
   "source": [
    "get_age_from_fraction(1-1/47.822375565159362)"
   ]
  },
  {
   "cell_type": "code",
   "execution_count": null,
   "metadata": {},
   "outputs": [],
   "source": [
    "plt.rcParams['errorbar.capsize'] = 12\n",
    "title_list = ['Heliocentric','Planetocentric','','','','']\n",
    "ir_dict_list = [ir_h48_dict,ir_p48_dict,'',ir_h65_dict,ir_p65_dict,'']\n",
    "fig = plt.figure(figsize=(33,22))\n",
    "for i in list(range(6)):\n",
    "    if i%3!=2:\n",
    "        ax = fig.add_subplot(231 + i)\n",
    "        ir_dict = ir_dict_list[i]\n",
    "        plt.rcParams['errorbar.capsize'] = 12\n",
    "        #plt.rcParams['lines.linewidth'] = 4\n",
    "        #ax = plot_iapetus_fraction(ir_dict,'Rhea')\n",
    "        for key in set(cp_keys)-{'Iapetus-bright'}:\n",
    "            plot_iapetus_fraction(ir_dict,key,ax=ax,do_print=False)\n",
    "        plt.xlabel('Iapetus:Moon Ratio',size=22)\n",
    "        plt.xticks(size=30)\n",
    "        if i%3==0:\n",
    "            plt.yticks(size=30)\n",
    "            plt.ylabel('Relative Probability Density',size=38)\n",
    "        else:\n",
    "            ax.get_yaxis().set_ticklabels([])\n",
    "            plt.ylabel('',size=1)\n",
    "        plt.xlabel('Iapetus:Moon Ratio',size=38)\n",
    "        plt.title(title_list[i],size=38)\n",
    "        if i%3==0:\n",
    "            x_pos=0.8\n",
    "        else:\n",
    "            x_pos=200\n",
    "        if i < 3:\n",
    "            plt.text(x_pos,0.075,'α=0.48',fontsize=36)\n",
    "        else:\n",
    "            plt.text(x_pos,0.075,'α=0.65',fontsize=36)\n",
    "    elif i==2:\n",
    "        ax = fig.add_subplot(231 + i)\n",
    "        custom_lines = [Line2D([0], [0], color=color_dict[key], lw=8) for key in cp_keys[:-1]]\n",
    "        ax.legend(custom_lines, cp_keys[:-1],labelspacing=0.7, fontsize=22, loc=2)\n",
    "        ax.get_yaxis().set_visible(False)\n",
    "        ax.get_yaxis().set_ticklabels([])\n",
    "        ax.get_xaxis().set_visible(False)\n",
    "        ax.get_xaxis().set_ticklabels([])\n",
    "        ax.spines['right'].set_visible(False)\n",
    "        ax.spines['bottom'].set_visible(False)\n",
    "        ax.spines['top'].set_visible(False)\n",
    "        \n",
    "    ax.get_xaxis().set_tick_params(direction='in', which='both')\n",
    "    ax.get_yaxis().set_tick_params(direction='in', which='both')\n",
    "    ax.get_xaxis().set_tick_params(length=14, width=2)\n",
    "    ax.get_xaxis().set_tick_params(length=7, width=2, which='minor')\n",
    "    ax.get_yaxis().set_tick_params(length=14, width=2)\n",
    "    ax.get_yaxis().set_tick_params(length=7, width=2, which='minor')\n",
    "    ax.get_xaxis().set_ticks_position('both')\n",
    "    ax.get_yaxis().set_ticks_position('both')\n",
    "    ax.get_xaxis().set_tick_params(pad=10, which='both')\n",
    "    ax.get_yaxis().set_tick_params(pad=5, which='both')\n",
    "    \n",
    "fig.subplots_adjust(wspace=0,hspace=0)\n",
    "\n",
    "fig=plt.gcf()\n",
    "fig.savefig('IapetusRatioPanel.pdf', bbox_inches='tight')"
   ]
  },
  {
   "cell_type": "code",
   "execution_count": null,
   "metadata": {},
   "outputs": [],
   "source": [
    "def plot_age_fraction(binned_dict,key,n,ax='None'):\n",
    "    moon_lines = get_lines(binned_dict,key,n)\n",
    "    moon_percentiles=[10**get_percentile(moon_lines,log(titan_data.loc[0]['D']),i) for i in np.arange(0.05,100.0,0.05)]\n",
    "    menrva_ndist = titan_data.loc[0]['ndist']\n",
    "    age_dist_moon = (np.atleast_2d(np.array(menrva_ndist))*np.atleast_2d(1/np.array(moon_percentiles)).transpose()).flatten()\n",
    "    print(tuple(np.percentile(age_dist_moon,[100-84.1345,50,84.1345])))\n",
    "    if ax=='None':\n",
    "        fig = plt.figure(figsize=(10,10))\n",
    "        ax = fig.add_subplot(111)\n",
    "    Y,bin_edges=np.histogram(np.log10(age_dist_moon),1000, density=True)\n",
    "    bin_edges = 10**np.array(bin_edges)\n",
    "    Y = np.array(Y)/max(Y)\n",
    "    X =[np.mean([bin_edges[i], bin_edges[i+1]]) for i in list(range(len(bin_edges)-1))]\n",
    "    plt.plot(X,Y,color_dict[key], linewidth=3)\n",
    "    low1,med1,high1 = tuple(np.percentile(age_dist_moon,[100-84.1345,50,84.1345]))\n",
    "    ax.fill_between(X,0,Y, where=((low1<X)&(X<high1)), facecolor=color_dict[key], alpha=0.07)\n",
    "    ax.semilogx([med1,med1],[0,Y[next(x[0] for x in enumerate(X) if x[1] > med1)]],color=color_dict[key])\n",
    "    ax.semilogx([low1,low1],[0,Y[next(x[0] for x in enumerate(X) if x[1] > low1)]],':',color=color_dict[key])\n",
    "    ax.semilogx([high1,high1],[0,Y[next(x[0] for x in enumerate(X) if x[1] > high1)]],':',color=color_dict[key])\n",
    "    plt.xticks(size=16)\n",
    "    plt.yticks(size=16)\n",
    "    plt.xlabel('Titan:' + key + ' Ratio at Menrva',size=22)\n",
    "    plt.ylabel('Relative Probability Density',size=22)\n",
    "    #plt.xlim([np.percentile(age_dist_moon,1),np.percentile(age_dist_moon,99)])\n",
    "    plt.xlim([0.002,500])\n",
    "    plt.ylim([0,1.05])\n",
    "    return low1,med1,high1\n",
    "    "
   ]
  },
  {
   "cell_type": "code",
   "execution_count": null,
   "metadata": {},
   "outputs": [],
   "source": [
    "plt.rcParams['lines.linewidth'] = 1.5\n",
    "plt.rcParams['errorbar.capsize'] = 4\n",
    "t1 = time.time()\n",
    "n=10000\n",
    "fig = plt.figure(figsize=(21,20))\n",
    "for i in list(range(16)):\n",
    "    if i%8<4:\n",
    "        alpha = '0.48'\n",
    "        if i%4<2:\n",
    "            binned_dict = binned_dict_h48\n",
    "            bs_dict = bs_h48_dict\n",
    "            mean_m = mean_h48_m\n",
    "        else:\n",
    "            binned_dict = binned_dict_p48\n",
    "            bs_dict = bs_p48_dict\n",
    "            mean_m = mean_p48_m\n",
    "    else:\n",
    "        alpha = '0.65'\n",
    "        if i%4<2:\n",
    "            binned_dict = binned_dict_h65\n",
    "            bs_dict = bs_h65_dict\n",
    "            mean_m = mean_h65_m\n",
    "        else:\n",
    "            binned_dict = binned_dict_p65\n",
    "            bs_dict = bs_p65_dict\n",
    "            mean_m = mean_p65_m\n",
    "    ax = fig.add_subplot(4,4,1 + i)\n",
    "    if i%2==0:\n",
    "        if i < 8:\n",
    "            mstr = '\\nfree slope'\n",
    "            plot_moon_lines(binned_dict,'Mimas',n,ax=ax,do_legend=True)\n",
    "        else:\n",
    "            mstr = '\\nslope='+str(round(mean_m,3))\n",
    "            plot_mean_m_lines(bs_dict,binned_dict,'Mimas',ax=ax,do_legend=True)\n",
    "        plt.xlabel('Crater Diameter (km)',size=20)\n",
    "        plt.ylabel('Crater Density',size=20)\n",
    "        plt.text(4.5,10**-8.5,'α='+alpha+mstr,fontsize=18)\n",
    "    if i%4>1:\n",
    "        ax.get_yaxis().set_ticklabels([])\n",
    "        plt.ylabel('',size=1)\n",
    "    if i%2==1:\n",
    "        if i < 8:\n",
    "            low1,med1,high1 = plot_age_fraction(binned_dict,'Mimas',n,ax=ax)\n",
    "        else:\n",
    "            low1,med1,high1 = plot_age_fraction_mean_m(bs_dict,'Mimas',ax=ax)\n",
    "        ax.get_yaxis().set_ticklabels([])\n",
    "        plt.xlabel('Titan:' + 'Mimas' + ' Ratio at Menrva',size=20)\n",
    "        if i%4<=2:\n",
    "            xpos = 0.003\n",
    "        else:\n",
    "            xpos = 2\n",
    "        plt.text(xpos,0.89,'α='+alpha+mstr,fontsize=18)\n",
    "        plt.text(xpos,0.5,'low='+str(round(low1,2))\\\n",
    "                 +'\\nmedian='+str(round(med1,2))\\\n",
    "                 +'\\nhigh='+str(round(high1,2)),fontsize=18)\n",
    "        ax.get_yaxis().set_visible(False)\n",
    "    else:\n",
    "        ax.get_xaxis().set_ticks_position('both')\n",
    "        ax.get_yaxis().set_ticks_position('both')\n",
    "    ax.get_xaxis().set_tick_params(direction='in', which='both')\n",
    "    ax.get_yaxis().set_tick_params(direction='in', which='both')\n",
    "    ax.get_xaxis().set_tick_params(length=10, width=1)\n",
    "    ax.get_xaxis().set_tick_params(length=5, width=1, which='minor')\n",
    "    ax.get_yaxis().set_tick_params(length=10, width=1)\n",
    "    ax.get_yaxis().set_tick_params(length=5, width=1, which='minor')\n",
    "plt.xticks(size=15)\n",
    "plt.yticks(size=15)\n",
    "fig.suptitle('    Heliocentric' + 36*' ' + 'Planetocentric',size=32)\n",
    "fig.subplots_adjust(wspace=0, hspace=0,top=0.96)\n",
    "t2=time.time()\n",
    "print('Run time: ' + str(round(t2-t1,2)))\n",
    "fig=plt.gcf()\n",
    "fig.savefig('TitanMimasAgeFractionPanel.pdf', bbox_inches='tight')"
   ]
  },
  {
   "cell_type": "code",
   "execution_count": null,
   "metadata": {},
   "outputs": [],
   "source": [
    "plt.rcParams['lines.linewidth'] = 1.5\n",
    "plt.rcParams['errorbar.capsize'] = 4\n",
    "t1 = time.time()\n",
    "n=10000\n",
    "fig = plt.figure(figsize=(21,20))\n",
    "for i in list(range(16)):\n",
    "    if i%4<2:\n",
    "        key='Rhea'\n",
    "    else:\n",
    "        key='Iapetus-bright'\n",
    "    if i%8<4:\n",
    "        alpha = '0.48'\n",
    "        binned_dict = binned_dict_p48\n",
    "        bs_dict = bs_p48_dict\n",
    "        mean_m = mean_p48_m\n",
    "    else:\n",
    "        alpha = '0.65'\n",
    "        binned_dict = binned_dict_p65\n",
    "        bs_dict = bs_p65_dict\n",
    "        mean_m = mean_p65_m\n",
    "    ax = fig.add_subplot(4,4,1 + i)\n",
    "    if i%2==0:\n",
    "        if i < 8:\n",
    "            mstr = '\\nfree slope'\n",
    "            plot_moon_lines(binned_dict,key,n,ax=ax,do_legend=True)\n",
    "        else:\n",
    "            mstr = '\\nslope='+str(round(mean_m,3))\n",
    "            plot_mean_m_lines(bs_dict,binned_dict,key,ax=ax,do_legend=True)\n",
    "        plt.xlabel('Crater Diameter (km)',size=20)\n",
    "        plt.ylabel('Crater Density',size=20)\n",
    "        plt.text(4.5,10**-8.5,'α='+alpha+mstr,fontsize=18)\n",
    "    if i%4>1:\n",
    "        ax.get_yaxis().set_ticklabels([])\n",
    "        plt.ylabel('',size=1)\n",
    "    if i%2==1:\n",
    "        if i < 8:\n",
    "            low1,med1,high1 = plot_age_fraction(binned_dict,key,n,ax=ax)\n",
    "        else:\n",
    "            low1,med1,high1 = plot_age_fraction_mean_m(bs_dict,key,ax=ax)\n",
    "        ax.get_yaxis().set_ticklabels([])\n",
    "        plt.xlabel('Titan:' + key.partition('-')[0] + ' Ratio at Menrva',size=20)\n",
    "        if i%4<=2:\n",
    "            xpos = 1\n",
    "        else:\n",
    "            xpos = 1\n",
    "        plt.text(xpos,0.89,'α='+alpha+mstr,fontsize=18)\n",
    "        plt.text(xpos,0.5,'low='+str(round(low1,3))\\\n",
    "                 +'\\nmedian='+str(round(med1,3))\\\n",
    "                 +'\\nhigh='+str(round(high1,3)),fontsize=18)\n",
    "        ax.get_yaxis().set_visible(False)\n",
    "    else:\n",
    "        ax.get_xaxis().set_ticks_position('both')\n",
    "        ax.get_yaxis().set_ticks_position('both')\n",
    "    ax.get_xaxis().set_tick_params(direction='in', which='both')\n",
    "    ax.get_yaxis().set_tick_params(direction='in', which='both')\n",
    "    ax.get_xaxis().set_tick_params(length=10, width=1)\n",
    "    ax.get_xaxis().set_tick_params(length=5, width=1, which='minor')\n",
    "    ax.get_yaxis().set_tick_params(length=10, width=1)\n",
    "    ax.get_yaxis().set_tick_params(length=5, width=1, which='minor')\n",
    "plt.xticks(size=15)\n",
    "plt.yticks(size=15)\n",
    "fig.suptitle('    Rhea' + 47*' ' + 'Iapetus',size=32)\n",
    "fig.subplots_adjust(wspace=0, hspace=0,top=0.96)\n",
    "t2=time.time()\n",
    "print('Run time: ' + str(round(t2-t1,2)))\n",
    "fig=plt.gcf()\n",
    "fig.savefig('TitanRheaIapetusAgeFractionPanel.pdf', bbox_inches='tight')"
   ]
  },
  {
   "cell_type": "code",
   "execution_count": null,
   "metadata": {},
   "outputs": [],
   "source": [
    "fig=plt.figure(figsize=(10,10))\n",
    "key='Mimas'\n",
    "moon_lines = get_lines(binned_dict_h65,key,n)\n",
    "xe = np.arange(0.5,3,0.01)\n",
    "mmimas = [10**get_percentile(moon_lines,xei,50.0) for xei in xe]\n",
    "ax = binned_dict_h65[key].plot(y='density_sf',x='D_sf',logx=True, logy=True, kind='scatter', color='white')\n",
    "titan_data.plot(y='density', x='D', yerr=np.array([titan_data[['lower','upper']].values.transpose()]), color='black', \\\n",
    "                logx=True, logy=True, kind='scatter', ax=ax, figsize=(10,10))\n",
    "pd.DataFrame({'1/' + str(2**i) + ' Mimas':np.array(mmimas)/2**i for i in list(range(-5,15))},index=[10**i for i in xe]).plot(\\\n",
    "                logx=True, logy=True, ax=ax, figsize=(10,10), color=color_dict[key],\\\n",
    "                style=':', legend=False)\n",
    "pd.DataFrame({'Mimas median':mmimas},index=[10**i for i in xe]).plot(\\\n",
    "                logx=True, logy=True, ax=ax, figsize=(10,10), color=color_dict[key],\\\n",
    "                style='-', legend=True)\n",
    "pd.DataFrame({'Factor of 2 isochrons':np.array(mmimas)/2},index=[10**i for i in xe]).plot(\\\n",
    "                logx=True, logy=True, ax=ax, figsize=(10,10), color=color_dict[key],\\\n",
    "                style=':', legend=True)\n",
    "plt.xticks(size=16)\n",
    "plt.yticks(size=16)\n",
    "plt.ylim([10**-8.5,10**-6])\n",
    "plt.xlim([12,600])\n",
    "plt.xlabel('Crater Diameter (km)',size=22)\n",
    "plt.ylabel('Crater Density',size=22)\n",
    "plt.title('Heliocentric Titan Counts, Mimas Isochrons',size=26)\n",
    "fig.savefig('HeliocentricMimasIsochrons.pdf')"
   ]
  },
  {
   "cell_type": "code",
   "execution_count": null,
   "metadata": {},
   "outputs": [],
   "source": [
    "def get_h1crater_dict(alpha):\n",
    "    big_D_dict = {'Mimas':139.0, 'Tethys':445.0, 'Dione-cp':350,'Rhea':480,'Iapetus-bright':580.0,'Titan':titan_ds['D'][0]}\n",
    "    i_e=3.5\n",
    "    return_dict = dict()\n",
    "    for key in big_D_dict.keys():\n",
    "        full_area = r_dict[key]**2 * math.pi * 4 /1000000.0\n",
    "        sf = d_scale_factor_h(0.05, e_dict[key], m_dict[key], r_dict[key], ro_dict[key], alpha)\n",
    "        pt = pt_dict[key]\n",
    "        gmeans_d = big_D_dict[key] * sf\n",
    "        binned_d = ig_50(1.0)/full_area/pt\n",
    "        binned_l = ig_lower(1.0)/full_area/pt\n",
    "        binned_u = ig_upper(1.0)/full_area/pt\n",
    "        binned_ndist = ig_ndist(1.0,i_e)/full_area/pt\n",
    "        return_dict[key] = {'D_sf':gmeans_d, 'density_sf':binned_d, 'lower_sf':binned_l, 'upper_sf':binned_u, 'ndist_sf':binned_ndist}\n",
    "    return return_dict"
   ]
  },
  {
   "cell_type": "code",
   "execution_count": null,
   "metadata": {},
   "outputs": [],
   "source": [
    "h1crater_dict65 = get_h1crater_dict(0.65)\n",
    "h1crater_dict48 = get_h1crater_dict(0.48)"
   ]
  },
  {
   "cell_type": "code",
   "execution_count": null,
   "metadata": {},
   "outputs": [],
   "source": [
    "fig = plt.figure(figsize=(10,10))\n",
    "for i in list(range(1)):\n",
    "    if i%3!=2:\n",
    "        ax = fig.add_subplot(111 + i)\n",
    "mean_m = mean_h48_m\n",
    "ax = pd.DataFrame(h1crater_dict48['Tethys']).plot(y='density_sf',x='D_sf',logx=True, \n",
    "                                            logy=True, kind='scatter', legend=True, ax=ax)\n",
    "\n",
    "for key in {'Mimas', 'Tethys', 'Dione-cp','Rhea','Iapetus-bright','Titan'}:\n",
    "    pd.DataFrame(h1crater_dict48[key]).iloc[:3].plot(y='density_sf',x='D_sf', \n",
    "            yerr=np.array([pd.DataFrame(h1crater_dict48[key]).iloc[:3][['lower_sf','upper_sf']].values.transpose()]), \n",
    "            logx=True, logy=True, kind='scatter', \n",
    "            ax=ax, color=color_dict[key], legend=True, s=200)\n",
    "        \n",
    "    bs = []\n",
    "    x = h1crater_dict48[key]['D_sf']\n",
    "    n = 1000\n",
    "    for i in list(range(n)):\n",
    "        y = log(random.choice(h1crater_dict48[key]['ndist_sf']))\n",
    "        m = np.random.choice(mean_h48_m_dist)\n",
    "        b = y - m * log(x)\n",
    "        bs.append((m,b))\n",
    "\n",
    "    xe = np.arange(1.6,3.2,0.01)\n",
    "    mmoon = [np.median([10**(m*xei + b) for m,b in bs]) for xei in xe]\n",
    "    umoon = [np.percentile([10**(m*xei + b) for m,b in bs], 84.1345) for xei in xe]\n",
    "    lmoon = [np.percentile([10**(m*xei + b) for m,b in bs], 100.0-84.1345) for xei in xe]\n",
    "    pd.DataFrame({key.partition('-')[0] + ' upper bound':umoon, key.partition('-')[0] + ' median':mmoon, \\\n",
    "                  key.partition('-')[0] + ' lower bound':lmoon},index=[10**i for i in xe]).plot(\\\n",
    "                        logx=True, logy=True, ax=ax, color=color_dict[key],\\\n",
    "                        style=[':','-',':'], legend=True)\n",
    "plt.xticks(size=16)\n",
    "plt.yticks(size=16)\n",
    "plt.ylim([10**-8.2,10**-4.3])\n",
    "plt.xlabel('Crater Diameter (km)',size=22)\n",
    "plt.ylabel('Crater Density',size=22)"
   ]
  },
  {
   "cell_type": "code",
   "execution_count": null,
   "metadata": {},
   "outputs": [],
   "source": [
    "def get_iapetus_ratio_h1crater_dict(h1crater_dict,mean_m_dist,n):\n",
    "    mt1=time.time()\n",
    "    print('Generating inputs...')\n",
    "    t1=time.time()\n",
    "    input_list = [mean_m_dist for i in range(n)]\n",
    "    with Pool(5) as pool:\n",
    "        m_list = pool.map(np.random.choice,input_list)\n",
    "        pool.close()\n",
    "    t2=time.time()\n",
    "    print('Inputs generated in: ' + str(round(t2-t1,3)) + ' s\\nCalculating ratios...')\n",
    "    bs_dict = {}\n",
    "    for key in {'Mimas', 'Tethys', 'Dione-cp','Rhea','Iapetus-bright','Titan'}:\n",
    "        t1=time.time()\n",
    "        bs = []\n",
    "        for m in m_list:\n",
    "            x = h1crater_dict[key]['D_sf']\n",
    "            y = log(random.choice(h1crater_dict[key]['ndist_sf']))\n",
    "            b = y - m * log(x)\n",
    "            bs.append(b)\n",
    "        bs_dict[key] = np.array(bs)\n",
    "        t2=time.time()\n",
    "        print(key.partition('-')[0] + ' b values calculated in: ' + str(round(t2-t1,3)) + ' s')\n",
    "    ratio_dict = {}\n",
    "    print('Dividing...')\n",
    "    t1=time.time()\n",
    "    for key in {'Mimas', 'Tethys', 'Dione-cp','Rhea','Titan'}:\n",
    "        ratio_dict[key] = 10**(bs_dict['Iapetus-bright']-bs_dict[key])\n",
    "    t2=time.time()\n",
    "    print('Divisions finished in: ' + str(round(t2-t1,3)) + ' s')\n",
    "    mt2=time.time()\n",
    "    print('Full run time: ' + str(round(mt2-mt1,3)) + ' s')\n",
    "    return ratio_dict"
   ]
  },
  {
   "cell_type": "code",
   "execution_count": null,
   "metadata": {},
   "outputs": [],
   "source": [
    "if False:\n",
    "    h1crater_ir_dict48 = get_iapetus_ratio_h1crater_dict(h1crater_dict48,mean_h48_m_dist,10000000)\n",
    "    h1crater_ir_dict65 = get_iapetus_ratio_h1crater_dict(h1crater_dict65,mean_h65_m_dist,10000000)\n",
    "    pkl.dump( h1crater_ir_dict48, open('h1crater_ir_dict48.pkl', 'wb'))\n",
    "    pkl.dump( h1crater_ir_dict65, open('h1crater_ir_dict65.pkl', 'wb'))\n",
    "else:\n",
    "    h1crater_ir_dict48 = pkl.load(open('h1crater_ir_dict48.pkl', 'rb'))\n",
    "    h1crater_ir_dict65 = pkl.load(open('h1crater_ir_dict65.pkl', 'rb'))"
   ]
  },
  {
   "cell_type": "code",
   "execution_count": null,
   "metadata": {},
   "outputs": [],
   "source": [
    "plt.rcParams['errorbar.capsize'] = 12\n",
    "title_list = ['Single-Crater Projections','Iapetus:Moon Ratio','','','','']\n",
    "ir_dict_list = ['',h1crater_ir_dict48,'','',h1crater_ir_dict65,'']\n",
    "fig = plt.figure(figsize=(33,22))\n",
    "key_list = ['Mimas', 'Tethys', 'Dione-cp','Rhea','Iapetus-bright','Titan']\n",
    "for i in list(range(5)):\n",
    "    if i%3==1:\n",
    "        ax = fig.add_subplot(231 + i)\n",
    "        ir_dict = ir_dict_list[i]\n",
    "        plt.rcParams['errorbar.capsize'] = 12\n",
    "        plt.rcParams['lines.linewidth'] = 2\n",
    "        for key in {'Mimas', 'Tethys', 'Dione-cp','Rhea','Titan'}:\n",
    "            plot_iapetus_fraction(ir_dict,key,ax=ax,do_print=False,n_bins=200)\n",
    "        plt.xticks(size=30)\n",
    "        ax.get_yaxis().set_ticklabels([])\n",
    "        plt.ylabel('',size=1)\n",
    "        plt.xlabel('Iapetus:Moon Ratio',size=38)\n",
    "        plt.title(title_list[i],size=38)\n",
    "        if i < 3:\n",
    "            plt.text(0.8,0.95,'α=0.48',fontsize=36)\n",
    "        else:\n",
    "            plt.text(0.8,0.95,'α=0.65',fontsize=36)\n",
    "    elif i%3==0:\n",
    "        ax = fig.add_subplot(231 + i)\n",
    "        if i==0:\n",
    "            alpha_str = '48'\n",
    "            mean_m_dist = mean_h48_m_dist\n",
    "            h1crater_dict = h1crater_dict48\n",
    "        elif i==3:\n",
    "            alpha_str = '65'\n",
    "            mean_m_dist = mean_h65_m_dist\n",
    "            h1crater_dict = h1crater_dict65\n",
    "        for key in key_list:\n",
    "            bs = []\n",
    "            x = h1crater_dict[key]['D_sf']\n",
    "            n = 1000\n",
    "            for j in list(range(n)):\n",
    "                y = log(random.choice(h1crater_dict[key]['ndist_sf']))\n",
    "                m = np.random.choice(mean_m_dist)\n",
    "                b = y - m * log(x)\n",
    "                bs.append((m,b))\n",
    "\n",
    "            xe = np.arange(1.6,2.9,0.01)\n",
    "            mmoon = [np.median([10**(m*xei + b) for m,b in bs]) for xei in xe]\n",
    "            umoon = [np.percentile([10**(m*xei + b) for m,b in bs], 84.1345) for xei in xe]\n",
    "            lmoon = [np.percentile([10**(m*xei + b) for m,b in bs], 100.0-84.1345) for xei in xe]\n",
    "            pd.DataFrame({key.partition('-')[0] + ' upper bound':umoon, key.partition('-')[0] + ' median':mmoon, \\\n",
    "                          key.partition('-')[0] + ' lower bound':lmoon},index=[10**i for i in xe]).plot(\\\n",
    "                                logx=True, logy=True, ax=ax, color=color_dict[key],\\\n",
    "                                style=[':','-',':'], legend=False,lw=2)\n",
    "            pd.DataFrame({key.partition('-')[0] + ' median':mmoon},index=[10**i for i in xe]).plot(\\\n",
    "                                logx=True, logy=True, ax=ax, color=color_dict[key],\\\n",
    "                                style=['-'], legend=False,lw=5)\n",
    "            plt.rcParams['lines.linewidth'] = 5\n",
    "            plt.rcParams['errorbar.capsize'] = 24\n",
    "            pd.DataFrame(h1crater_dict[key]).iloc[:3].plot(y='density_sf',x='D_sf',\n",
    "                    yerr=np.array([pd.DataFrame(h1crater_dict[key]).iloc[:3][['lower_sf','upper_sf']].values.transpose()]), \n",
    "                    logx=True, logy=True, kind='scatter', \n",
    "                    ax=ax, color=color_dict[key], legend=False, s=400)\n",
    "            plt.rcParams['lines.linewidth'] = 2\n",
    "            plt.rcParams['errorbar.capsize'] = 12\n",
    "        plt.text(10**1.7,10**-7.9,'α=0.' + alpha_str,fontsize=36)\n",
    "        plt.xticks(size=30)\n",
    "        plt.yticks(size=30)\n",
    "        plt.ylim([10**-8.2,10**-5.7])\n",
    "        plt.xlabel('Scaled Crater Diameter (km)',size=38)\n",
    "        plt.ylabel('Cumulative Crater Density',size=38)\n",
    "        plt.title(title_list[i],size=38)\n",
    "\n",
    "    elif i==2:\n",
    "        ax = fig.add_subplot(231 + i)\n",
    "        custom_lines = [Line2D([0], [0], color=color_dict[key], lw=8) for key in key_list]\n",
    "        ax.legend(custom_lines, key_list,labelspacing=0.7, fontsize=22, loc=2)\n",
    "        ax.get_yaxis().set_visible(False)\n",
    "        ax.get_yaxis().set_ticklabels([])\n",
    "        ax.get_xaxis().set_visible(False)\n",
    "        ax.get_xaxis().set_ticklabels([])\n",
    "        ax.spines['right'].set_visible(False)\n",
    "        ax.spines['bottom'].set_visible(False)\n",
    "        ax.spines['top'].set_visible(False)\n",
    "    \n",
    "    ax.get_xaxis().set_tick_params(direction='in', which='both')\n",
    "    ax.get_yaxis().set_tick_params(direction='in', which='both')\n",
    "    ax.get_xaxis().set_tick_params(length=14, width=2)\n",
    "    ax.get_xaxis().set_tick_params(length=7, width=2, which='minor')\n",
    "    ax.get_yaxis().set_tick_params(length=14, width=2)\n",
    "    ax.get_yaxis().set_tick_params(length=7, width=2, which='minor')\n",
    "    ax.get_xaxis().set_ticks_position('both')\n",
    "    ax.get_yaxis().set_ticks_position('both')\n",
    "    ax.get_xaxis().set_tick_params(pad=10, which='both')\n",
    "    ax.get_yaxis().set_tick_params(pad=5, which='both')\n",
    "    \n",
    "fig.subplots_adjust(wspace=0,hspace=0)\n",
    "\n",
    "fig=plt.gcf()\n",
    "fig.savefig('OneCraterSaturationPanel.pdf', bbox_inches='tight')"
   ]
  },
  {
   "cell_type": "code",
   "execution_count": null,
   "metadata": {},
   "outputs": [],
   "source": []
  },
  {
   "cell_type": "code",
   "execution_count": null,
   "metadata": {},
   "outputs": [],
   "source": [
    "Ds = 11.9 * (32**2/(100*G*m_mimas/r_mimas**2))**0.217 * (2/3)**0.333 * 17**0.783\n",
    "Ds * (Ds/15)**0.13"
   ]
  },
  {
   "cell_type": "code",
   "execution_count": null,
   "metadata": {},
   "outputs": [],
   "source": [
    "10**(log(422.3486366636343/139.0)*-2.5)"
   ]
  },
  {
   "cell_type": "code",
   "execution_count": null,
   "metadata": {},
   "outputs": [],
   "source": [
    "47.822375565159362 * 10**(log(422.3486366636343/139.0)*-2.5) "
   ]
  },
  {
   "cell_type": "code",
   "execution_count": null,
   "metadata": {},
   "outputs": [],
   "source": [
    "mimas_area = r_mimas**2 * math.pi * 4 /1000000.0\n",
    "herschel_ndist = ig_ndist(1,4)"
   ]
  },
  {
   "cell_type": "code",
   "execution_count": null,
   "metadata": {},
   "outputs": [],
   "source": [
    "ir_h48_dict['Mimas']"
   ]
  },
  {
   "cell_type": "code",
   "execution_count": null,
   "metadata": {},
   "outputs": [],
   "source": [
    "10**(log(422.3486366636343/139.0)*-3)"
   ]
  },
  {
   "cell_type": "code",
   "execution_count": null,
   "metadata": {},
   "outputs": [],
   "source": [
    "t1=time.time()\n",
    "mimas_area = r_mimas**2 * math.pi * 4 /1000000.0\n",
    "herschel_ndist = ig_ndist(1,4)\n",
    "herschel_dist = [10**(log(422.3486366636343/139.0)*-3) * random.choice(herschel_ndist)\\\n",
    "              * random.choice(ir_h48_dict['Mimas']) for i in range(10000)]\n",
    "herschel_percentiles = [np.percentile(herschel_dist,i) for i in np.arange(0.0005,100.0,0.0005)]\n",
    "t2=time.time()\n",
    "print('Total run time: ' + str(round(t2-t1,2)) + ' s')"
   ]
  },
  {
   "cell_type": "code",
   "execution_count": null,
   "metadata": {},
   "outputs": [],
   "source": [
    "t1=time.time()\n",
    "herschel_dist = [10**(log(422.3486366636343/139.0)*-3) * random.choice(herschel_ndist)\\\n",
    "              * random.choice(ir_h48_dict['Mimas']) for i in range(10000)]\n",
    "herschel_percentiles_3 = np.percentile(herschel_dist,np.arange(0.005,100.0,0.005))\n",
    "t2=time.time()\n",
    "print('Total run time: ' + str(round(t2-t1,2)) + ' s')"
   ]
  },
  {
   "cell_type": "code",
   "execution_count": null,
   "metadata": {},
   "outputs": [],
   "source": [
    "if False:\n",
    "    t1=time.time()\n",
    "    herschel_dist = [10**(log(422.3486366636343/139.0)*-3) * random.choice(herschel_ndist)\\\n",
    "              * random.choice(ir_h48_dict['Mimas']) for i in range(10000)]\n",
    "    herschel_percentiles_3 = np.percentile(herschel_dist,np.arange(0.00005,100.0,0.00005))\n",
    "    herschel_dist = [10**(log(422.3486366636343/139.0)*-2.5) * random.choice(herschel_ndist)\\\n",
    "              * random.choice(ir_h48_dict['Mimas']) for i in range(10000)]\n",
    "    herschel_percentiles_2p5 = [np.percentile(herschel_dist,i) for i in np.arange(0.00005,100.0,0.00005)]\n",
    "    pkl.dump( herschel_percentiles_3, open('herschel_percentiles_3.pkl', 'wb'))\n",
    "    pkl.dump( herschel_percentiles_2p5, open('herschel_percentiles_2p5.pkl', 'wb'))\n",
    "    t2=time.time()\n",
    "    print('Total run time: ' + str(round(t2-t1,2)) + ' s')\n",
    "else:\n",
    "    herschel_percentiles_3 = pkl.load(open('herschel_percentiles_3.pkl', 'rb'))\n",
    "    erschel_percentiles_2p5 = pkl.load(open('erschel_percentiles_2p5.pkl', 'rb'))"
   ]
  },
  {
   "cell_type": "code",
   "execution_count": null,
   "metadata": {},
   "outputs": [],
   "source": [
    "def calc_destruction_prob(herschel_percentiles):\n",
    "    guess_1 = np.arange(0,100,1)[abs(np.percentile(herschel_percentiles,np.arange(0,100,1))-1).argmin()]\n",
    "    guess_2 = np.arange(max(guess_1-1.2,0),min(guess_1+1.2,100),0.1)[abs(np.percentile(herschel_percentiles,\\\n",
    "                            np.arange(max(guess_1-1.2,0),min(guess_1+1.2,100),0.1))-1).argmin()]\n",
    "    guess_3 = np.arange(max(guess_2-0.12,0),min(guess_2+0.12,100),0.01)[abs(np.percentile(herschel_percentiles,\\\n",
    "                            np.arange(max(guess_2-0.12,0),min(guess_2+0.12,100),0.01))-1).argmin()]\n",
    "    guess_4 = np.arange(max(guess_3-0.012,0),min(guess_3+0.012,100),0.001)[abs(np.percentile(herschel_percentiles,\\\n",
    "                            np.arange(max(guess_3-0.012,0),min(guess_3+0.012,100),0.001))-1).argmin()]\n",
    "    guess_5 = np.arange(max(guess_4-0.0012,0),min(guess_4+0.0012,100),0.0001)[abs(np.percentile(herschel_percentiles,\\\n",
    "                            np.arange(max(guess_4-0.0012,0),min(guess_4+0.0012,100),0.0001))-1).argmin()]\n",
    "    return 100-guess_5"
   ]
  },
  {
   "cell_type": "code",
   "execution_count": null,
   "metadata": {},
   "outputs": [],
   "source": [
    "herschel_percentiles = herschel_percentiles_3\n",
    "fig = plt.figure(figsize=(10,10))\n",
    "ax = fig.add_subplot(111)\n",
    "Y,bin_edges=np.histogram(np.log10(herschel_percentiles),1000, density=True)\n",
    "bin_edges = 10**np.array(bin_edges)\n",
    "Y = np.array(Y)/max(Y)\n",
    "X = np.array([np.mean([bin_edges[i], bin_edges[i+1]]) for i in list(range(len(bin_edges)-1))])\n",
    "plt.plot(X,Y,color_dict['Mimas'], linewidth=3)\n",
    "low1,med1,high1 = tuple(np.percentile(herschel_percentiles,[100-84.1345,50,84.1345]))\n",
    "ax.fill_between(X,0,Y, where=((low1<X)&(X<high1)), facecolor=color_dict['Mimas'], alpha=0.15)\n",
    "ax.semilogx([med1,med1],[0,Y[next(x[0] for x in enumerate(X) if x[1] > med1)]],color=color_dict['Mimas'])\n",
    "ax.semilogx([low1,low1],[0,Y[next(x[0] for x in enumerate(X) if x[1] > low1)]],':',color=color_dict['Mimas'])\n",
    "ax.semilogx([high1,high1],[0,Y[next(x[0] for x in enumerate(X) if x[1] > high1)]],':',color=color_dict['Mimas'])\n",
    "ax.semilogx([1,1],[0,Y[next(x[0] for x in enumerate(X) if x[1] > 1)]],color=color_dict['Mimas'])\n",
    "ax.fill_between(X,0,Y, where=(1.0<X), facecolor=color_dict['Mimas'], alpha=0.07)\n",
    "plt.xticks(size=16)\n",
    "plt.yticks(size=16)\n",
    "plt.xlabel('Number of impacts large enough to destroy Mimas',size=22)\n",
    "plt.ylabel('Relative Probability Density',size=22)\n",
    "plt.xlim([0.2,50])\n",
    "plt.ylim([0,1.05])\n",
    "plt.text(0.25,0.75,'Probability of\\nan impact large\\nenough to destroy\\nMimas: ' + \\\n",
    "         str(round(calc_destruction_prob(herschel_percentiles),1))\\\n",
    "         + '%\\n\\nb = -3',fontsize=22)\n",
    "pfig = plt.gcf()\n",
    "pfig.savefig('herschel_probabilities_3.pdf',bbox_inches='tight')"
   ]
  },
  {
   "cell_type": "code",
   "execution_count": null,
   "metadata": {},
   "outputs": [],
   "source": []
  }
 ],
 "metadata": {
  "kernelspec": {
   "display_name": "Python 3",
   "language": "python",
   "name": "python3"
  },
  "language_info": {
   "codemirror_mode": {
    "name": "ipython",
    "version": 3
   },
   "file_extension": ".py",
   "mimetype": "text/x-python",
   "name": "python",
   "nbconvert_exporter": "python",
   "pygments_lexer": "ipython3",
   "version": "3.7.3"
  }
 },
 "nbformat": 4,
 "nbformat_minor": 2
}
